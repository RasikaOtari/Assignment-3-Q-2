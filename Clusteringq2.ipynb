{
  "nbformat": 4,
  "nbformat_minor": 0,
  "metadata": {
    "colab": {
      "name": "Clusteringq2.ipynb",
      "provenance": [],
      "authorship_tag": "ABX9TyP8vq42yVc6dkvJHx03pVlN",
      "include_colab_link": true
    },
    "kernelspec": {
      "name": "python3",
      "display_name": "Python 3"
    },
    "language_info": {
      "name": "python"
    }
  },
  "cells": [
    {
      "cell_type": "markdown",
      "metadata": {
        "id": "view-in-github",
        "colab_type": "text"
      },
      "source": [
        "<a href=\"https://colab.research.google.com/github/RasikaOtari/Assignment-3-Q-2/blob/main/Clusteringq2.ipynb\" target=\"_parent\"><img src=\"https://colab.research.google.com/assets/colab-badge.svg\" alt=\"Open In Colab\"/></a>"
      ]
    },
    {
      "cell_type": "markdown",
      "source": [
        "#Assignment 7 clustering"
      ],
      "metadata": {
        "id": "MgdHDbni5E_x"
      }
    },
    {
      "cell_type": "code",
      "source": [
        "import numpy as np\n",
        "import pandas as pd \n",
        "\n",
        "import matplotlib.pyplot as plt\n",
        "import seaborn as sns\n",
        "\n",
        "import warnings\n",
        "warnings.filterwarnings('ignore')"
      ],
      "metadata": {
        "id": "P2O4eOs55Kdb"
      },
      "execution_count": 1,
      "outputs": []
    },
    {
      "cell_type": "code",
      "source": [
        "dataset = pd.read_excel(\"/content/EastWestAirlines.xlsx\", sheet_name='data')"
      ],
      "metadata": {
        "id": "k-uMIl8wLfWT"
      },
      "execution_count": 2,
      "outputs": []
    },
    {
      "cell_type": "code",
      "source": [
        "dataset.head()"
      ],
      "metadata": {
        "colab": {
          "base_uri": "https://localhost:8080/",
          "height": 270
        },
        "id": "QERB_cuTLyWl",
        "outputId": "dea9832d-3e4a-445f-a988-77dc2b26ca7a"
      },
      "execution_count": 4,
      "outputs": [
        {
          "output_type": "execute_result",
          "data": {
            "text/plain": [
              "   ID#  Balance  Qual_miles  cc1_miles  cc2_miles  cc3_miles  Bonus_miles  \\\n",
              "0    1    28143           0          1          1          1          174   \n",
              "1    2    19244           0          1          1          1          215   \n",
              "2    3    41354           0          1          1          1         4123   \n",
              "3    4    14776           0          1          1          1          500   \n",
              "4    5    97752           0          4          1          1        43300   \n",
              "\n",
              "   Bonus_trans  Flight_miles_12mo  Flight_trans_12  Days_since_enroll  Award?  \n",
              "0            1                  0                0               7000       0  \n",
              "1            2                  0                0               6968       0  \n",
              "2            4                  0                0               7034       0  \n",
              "3            1                  0                0               6952       0  \n",
              "4           26               2077                4               6935       1  "
            ],
            "text/html": [
              "\n",
              "  <div id=\"df-2d7abb7a-53b7-4f61-a7b5-baa216b33dcf\">\n",
              "    <div class=\"colab-df-container\">\n",
              "      <div>\n",
              "<style scoped>\n",
              "    .dataframe tbody tr th:only-of-type {\n",
              "        vertical-align: middle;\n",
              "    }\n",
              "\n",
              "    .dataframe tbody tr th {\n",
              "        vertical-align: top;\n",
              "    }\n",
              "\n",
              "    .dataframe thead th {\n",
              "        text-align: right;\n",
              "    }\n",
              "</style>\n",
              "<table border=\"1\" class=\"dataframe\">\n",
              "  <thead>\n",
              "    <tr style=\"text-align: right;\">\n",
              "      <th></th>\n",
              "      <th>ID#</th>\n",
              "      <th>Balance</th>\n",
              "      <th>Qual_miles</th>\n",
              "      <th>cc1_miles</th>\n",
              "      <th>cc2_miles</th>\n",
              "      <th>cc3_miles</th>\n",
              "      <th>Bonus_miles</th>\n",
              "      <th>Bonus_trans</th>\n",
              "      <th>Flight_miles_12mo</th>\n",
              "      <th>Flight_trans_12</th>\n",
              "      <th>Days_since_enroll</th>\n",
              "      <th>Award?</th>\n",
              "    </tr>\n",
              "  </thead>\n",
              "  <tbody>\n",
              "    <tr>\n",
              "      <th>0</th>\n",
              "      <td>1</td>\n",
              "      <td>28143</td>\n",
              "      <td>0</td>\n",
              "      <td>1</td>\n",
              "      <td>1</td>\n",
              "      <td>1</td>\n",
              "      <td>174</td>\n",
              "      <td>1</td>\n",
              "      <td>0</td>\n",
              "      <td>0</td>\n",
              "      <td>7000</td>\n",
              "      <td>0</td>\n",
              "    </tr>\n",
              "    <tr>\n",
              "      <th>1</th>\n",
              "      <td>2</td>\n",
              "      <td>19244</td>\n",
              "      <td>0</td>\n",
              "      <td>1</td>\n",
              "      <td>1</td>\n",
              "      <td>1</td>\n",
              "      <td>215</td>\n",
              "      <td>2</td>\n",
              "      <td>0</td>\n",
              "      <td>0</td>\n",
              "      <td>6968</td>\n",
              "      <td>0</td>\n",
              "    </tr>\n",
              "    <tr>\n",
              "      <th>2</th>\n",
              "      <td>3</td>\n",
              "      <td>41354</td>\n",
              "      <td>0</td>\n",
              "      <td>1</td>\n",
              "      <td>1</td>\n",
              "      <td>1</td>\n",
              "      <td>4123</td>\n",
              "      <td>4</td>\n",
              "      <td>0</td>\n",
              "      <td>0</td>\n",
              "      <td>7034</td>\n",
              "      <td>0</td>\n",
              "    </tr>\n",
              "    <tr>\n",
              "      <th>3</th>\n",
              "      <td>4</td>\n",
              "      <td>14776</td>\n",
              "      <td>0</td>\n",
              "      <td>1</td>\n",
              "      <td>1</td>\n",
              "      <td>1</td>\n",
              "      <td>500</td>\n",
              "      <td>1</td>\n",
              "      <td>0</td>\n",
              "      <td>0</td>\n",
              "      <td>6952</td>\n",
              "      <td>0</td>\n",
              "    </tr>\n",
              "    <tr>\n",
              "      <th>4</th>\n",
              "      <td>5</td>\n",
              "      <td>97752</td>\n",
              "      <td>0</td>\n",
              "      <td>4</td>\n",
              "      <td>1</td>\n",
              "      <td>1</td>\n",
              "      <td>43300</td>\n",
              "      <td>26</td>\n",
              "      <td>2077</td>\n",
              "      <td>4</td>\n",
              "      <td>6935</td>\n",
              "      <td>1</td>\n",
              "    </tr>\n",
              "  </tbody>\n",
              "</table>\n",
              "</div>\n",
              "      <button class=\"colab-df-convert\" onclick=\"convertToInteractive('df-2d7abb7a-53b7-4f61-a7b5-baa216b33dcf')\"\n",
              "              title=\"Convert this dataframe to an interactive table.\"\n",
              "              style=\"display:none;\">\n",
              "        \n",
              "  <svg xmlns=\"http://www.w3.org/2000/svg\" height=\"24px\"viewBox=\"0 0 24 24\"\n",
              "       width=\"24px\">\n",
              "    <path d=\"M0 0h24v24H0V0z\" fill=\"none\"/>\n",
              "    <path d=\"M18.56 5.44l.94 2.06.94-2.06 2.06-.94-2.06-.94-.94-2.06-.94 2.06-2.06.94zm-11 1L8.5 8.5l.94-2.06 2.06-.94-2.06-.94L8.5 2.5l-.94 2.06-2.06.94zm10 10l.94 2.06.94-2.06 2.06-.94-2.06-.94-.94-2.06-.94 2.06-2.06.94z\"/><path d=\"M17.41 7.96l-1.37-1.37c-.4-.4-.92-.59-1.43-.59-.52 0-1.04.2-1.43.59L10.3 9.45l-7.72 7.72c-.78.78-.78 2.05 0 2.83L4 21.41c.39.39.9.59 1.41.59.51 0 1.02-.2 1.41-.59l7.78-7.78 2.81-2.81c.8-.78.8-2.07 0-2.86zM5.41 20L4 18.59l7.72-7.72 1.47 1.35L5.41 20z\"/>\n",
              "  </svg>\n",
              "      </button>\n",
              "      \n",
              "  <style>\n",
              "    .colab-df-container {\n",
              "      display:flex;\n",
              "      flex-wrap:wrap;\n",
              "      gap: 12px;\n",
              "    }\n",
              "\n",
              "    .colab-df-convert {\n",
              "      background-color: #E8F0FE;\n",
              "      border: none;\n",
              "      border-radius: 50%;\n",
              "      cursor: pointer;\n",
              "      display: none;\n",
              "      fill: #1967D2;\n",
              "      height: 32px;\n",
              "      padding: 0 0 0 0;\n",
              "      width: 32px;\n",
              "    }\n",
              "\n",
              "    .colab-df-convert:hover {\n",
              "      background-color: #E2EBFA;\n",
              "      box-shadow: 0px 1px 2px rgba(60, 64, 67, 0.3), 0px 1px 3px 1px rgba(60, 64, 67, 0.15);\n",
              "      fill: #174EA6;\n",
              "    }\n",
              "\n",
              "    [theme=dark] .colab-df-convert {\n",
              "      background-color: #3B4455;\n",
              "      fill: #D2E3FC;\n",
              "    }\n",
              "\n",
              "    [theme=dark] .colab-df-convert:hover {\n",
              "      background-color: #434B5C;\n",
              "      box-shadow: 0px 1px 3px 1px rgba(0, 0, 0, 0.15);\n",
              "      filter: drop-shadow(0px 1px 2px rgba(0, 0, 0, 0.3));\n",
              "      fill: #FFFFFF;\n",
              "    }\n",
              "  </style>\n",
              "\n",
              "      <script>\n",
              "        const buttonEl =\n",
              "          document.querySelector('#df-2d7abb7a-53b7-4f61-a7b5-baa216b33dcf button.colab-df-convert');\n",
              "        buttonEl.style.display =\n",
              "          google.colab.kernel.accessAllowed ? 'block' : 'none';\n",
              "\n",
              "        async function convertToInteractive(key) {\n",
              "          const element = document.querySelector('#df-2d7abb7a-53b7-4f61-a7b5-baa216b33dcf');\n",
              "          const dataTable =\n",
              "            await google.colab.kernel.invokeFunction('convertToInteractive',\n",
              "                                                     [key], {});\n",
              "          if (!dataTable) return;\n",
              "\n",
              "          const docLinkHtml = 'Like what you see? Visit the ' +\n",
              "            '<a target=\"_blank\" href=https://colab.research.google.com/notebooks/data_table.ipynb>data table notebook</a>'\n",
              "            + ' to learn more about interactive tables.';\n",
              "          element.innerHTML = '';\n",
              "          dataTable['output_type'] = 'display_data';\n",
              "          await google.colab.output.renderOutput(dataTable, element);\n",
              "          const docLink = document.createElement('div');\n",
              "          docLink.innerHTML = docLinkHtml;\n",
              "          element.appendChild(docLink);\n",
              "        }\n",
              "      </script>\n",
              "    </div>\n",
              "  </div>\n",
              "  "
            ]
          },
          "metadata": {},
          "execution_count": 4
        }
      ]
    },
    {
      "cell_type": "code",
      "source": [
        "dataset1 =  dataset.drop(['ID','Award'], axis=1)\n",
        "dataset1.head(2)"
      ],
      "metadata": {
        "colab": {
          "base_uri": "https://localhost:8080/",
          "height": 176
        },
        "id": "QEXOf-MYL6h1",
        "outputId": "af2eb342-22d0-40cc-d6a6-47ba6ce34470"
      },
      "execution_count": 7,
      "outputs": [
        {
          "output_type": "execute_result",
          "data": {
            "text/plain": [
              "   Balance  Qual_miles  cc1_miles  cc2_miles  cc3_miles  Bonus_miles  \\\n",
              "0    28143           0          1          1          1          174   \n",
              "1    19244           0          1          1          1          215   \n",
              "\n",
              "   Bonus_trans  Flight_miles_12mo  Flight_trans_12  Days_since_enroll  \n",
              "0            1                  0                0               7000  \n",
              "1            2                  0                0               6968  "
            ],
            "text/html": [
              "\n",
              "  <div id=\"df-bc6ee55f-eb4e-4209-8c1d-611f6a180e37\">\n",
              "    <div class=\"colab-df-container\">\n",
              "      <div>\n",
              "<style scoped>\n",
              "    .dataframe tbody tr th:only-of-type {\n",
              "        vertical-align: middle;\n",
              "    }\n",
              "\n",
              "    .dataframe tbody tr th {\n",
              "        vertical-align: top;\n",
              "    }\n",
              "\n",
              "    .dataframe thead th {\n",
              "        text-align: right;\n",
              "    }\n",
              "</style>\n",
              "<table border=\"1\" class=\"dataframe\">\n",
              "  <thead>\n",
              "    <tr style=\"text-align: right;\">\n",
              "      <th></th>\n",
              "      <th>Balance</th>\n",
              "      <th>Qual_miles</th>\n",
              "      <th>cc1_miles</th>\n",
              "      <th>cc2_miles</th>\n",
              "      <th>cc3_miles</th>\n",
              "      <th>Bonus_miles</th>\n",
              "      <th>Bonus_trans</th>\n",
              "      <th>Flight_miles_12mo</th>\n",
              "      <th>Flight_trans_12</th>\n",
              "      <th>Days_since_enroll</th>\n",
              "    </tr>\n",
              "  </thead>\n",
              "  <tbody>\n",
              "    <tr>\n",
              "      <th>0</th>\n",
              "      <td>28143</td>\n",
              "      <td>0</td>\n",
              "      <td>1</td>\n",
              "      <td>1</td>\n",
              "      <td>1</td>\n",
              "      <td>174</td>\n",
              "      <td>1</td>\n",
              "      <td>0</td>\n",
              "      <td>0</td>\n",
              "      <td>7000</td>\n",
              "    </tr>\n",
              "    <tr>\n",
              "      <th>1</th>\n",
              "      <td>19244</td>\n",
              "      <td>0</td>\n",
              "      <td>1</td>\n",
              "      <td>1</td>\n",
              "      <td>1</td>\n",
              "      <td>215</td>\n",
              "      <td>2</td>\n",
              "      <td>0</td>\n",
              "      <td>0</td>\n",
              "      <td>6968</td>\n",
              "    </tr>\n",
              "  </tbody>\n",
              "</table>\n",
              "</div>\n",
              "      <button class=\"colab-df-convert\" onclick=\"convertToInteractive('df-bc6ee55f-eb4e-4209-8c1d-611f6a180e37')\"\n",
              "              title=\"Convert this dataframe to an interactive table.\"\n",
              "              style=\"display:none;\">\n",
              "        \n",
              "  <svg xmlns=\"http://www.w3.org/2000/svg\" height=\"24px\"viewBox=\"0 0 24 24\"\n",
              "       width=\"24px\">\n",
              "    <path d=\"M0 0h24v24H0V0z\" fill=\"none\"/>\n",
              "    <path d=\"M18.56 5.44l.94 2.06.94-2.06 2.06-.94-2.06-.94-.94-2.06-.94 2.06-2.06.94zm-11 1L8.5 8.5l.94-2.06 2.06-.94-2.06-.94L8.5 2.5l-.94 2.06-2.06.94zm10 10l.94 2.06.94-2.06 2.06-.94-2.06-.94-.94-2.06-.94 2.06-2.06.94z\"/><path d=\"M17.41 7.96l-1.37-1.37c-.4-.4-.92-.59-1.43-.59-.52 0-1.04.2-1.43.59L10.3 9.45l-7.72 7.72c-.78.78-.78 2.05 0 2.83L4 21.41c.39.39.9.59 1.41.59.51 0 1.02-.2 1.41-.59l7.78-7.78 2.81-2.81c.8-.78.8-2.07 0-2.86zM5.41 20L4 18.59l7.72-7.72 1.47 1.35L5.41 20z\"/>\n",
              "  </svg>\n",
              "      </button>\n",
              "      \n",
              "  <style>\n",
              "    .colab-df-container {\n",
              "      display:flex;\n",
              "      flex-wrap:wrap;\n",
              "      gap: 12px;\n",
              "    }\n",
              "\n",
              "    .colab-df-convert {\n",
              "      background-color: #E8F0FE;\n",
              "      border: none;\n",
              "      border-radius: 50%;\n",
              "      cursor: pointer;\n",
              "      display: none;\n",
              "      fill: #1967D2;\n",
              "      height: 32px;\n",
              "      padding: 0 0 0 0;\n",
              "      width: 32px;\n",
              "    }\n",
              "\n",
              "    .colab-df-convert:hover {\n",
              "      background-color: #E2EBFA;\n",
              "      box-shadow: 0px 1px 2px rgba(60, 64, 67, 0.3), 0px 1px 3px 1px rgba(60, 64, 67, 0.15);\n",
              "      fill: #174EA6;\n",
              "    }\n",
              "\n",
              "    [theme=dark] .colab-df-convert {\n",
              "      background-color: #3B4455;\n",
              "      fill: #D2E3FC;\n",
              "    }\n",
              "\n",
              "    [theme=dark] .colab-df-convert:hover {\n",
              "      background-color: #434B5C;\n",
              "      box-shadow: 0px 1px 3px 1px rgba(0, 0, 0, 0.15);\n",
              "      filter: drop-shadow(0px 1px 2px rgba(0, 0, 0, 0.3));\n",
              "      fill: #FFFFFF;\n",
              "    }\n",
              "  </style>\n",
              "\n",
              "      <script>\n",
              "        const buttonEl =\n",
              "          document.querySelector('#df-bc6ee55f-eb4e-4209-8c1d-611f6a180e37 button.colab-df-convert');\n",
              "        buttonEl.style.display =\n",
              "          google.colab.kernel.accessAllowed ? 'block' : 'none';\n",
              "\n",
              "        async function convertToInteractive(key) {\n",
              "          const element = document.querySelector('#df-bc6ee55f-eb4e-4209-8c1d-611f6a180e37');\n",
              "          const dataTable =\n",
              "            await google.colab.kernel.invokeFunction('convertToInteractive',\n",
              "                                                     [key], {});\n",
              "          if (!dataTable) return;\n",
              "\n",
              "          const docLinkHtml = 'Like what you see? Visit the ' +\n",
              "            '<a target=\"_blank\" href=https://colab.research.google.com/notebooks/data_table.ipynb>data table notebook</a>'\n",
              "            + ' to learn more about interactive tables.';\n",
              "          element.innerHTML = '';\n",
              "          dataTable['output_type'] = 'display_data';\n",
              "          await google.colab.output.renderOutput(dataTable, element);\n",
              "          const docLink = document.createElement('div');\n",
              "          docLink.innerHTML = docLinkHtml;\n",
              "          element.appendChild(docLink);\n",
              "        }\n",
              "      </script>\n",
              "    </div>\n",
              "  </div>\n",
              "  "
            ]
          },
          "metadata": {},
          "execution_count": 7
        }
      ]
    },
    {
      "cell_type": "code",
      "source": [
        "from sklearn.preprocessing import StandardScaler\n",
        "\n",
        "std_df = StandardScaler().fit_transform(dataset1)      # this will used for kmeans\n",
        "std_df.shape"
      ],
      "metadata": {
        "colab": {
          "base_uri": "https://localhost:8080/"
        },
        "id": "jw9FrI0QcV1u",
        "outputId": "54a7255f-bca1-4556-d9b9-0ac4a70c67c6"
      },
      "execution_count": 8,
      "outputs": [
        {
          "output_type": "execute_result",
          "data": {
            "text/plain": [
              "(3999, 10)"
            ]
          },
          "metadata": {},
          "execution_count": 8
        }
      ]
    },
    {
      "cell_type": "markdown",
      "source": [
        "#MinMaxScalar"
      ],
      "metadata": {
        "id": "hb0qKa_fcaWt"
      }
    },
    {
      "cell_type": "code",
      "source": [
        "from sklearn.preprocessing import MinMaxScaler\n",
        "minmax = MinMaxScaler()\n",
        "\n",
        "minmax_df = minmax.fit_transform(dataset1)\n",
        "minmax_df.shape"
      ],
      "metadata": {
        "colab": {
          "base_uri": "https://localhost:8080/"
        },
        "id": "D8yiQ8YFccKE",
        "outputId": "7f707110-38f0-4405-8d56-0edb8ab215b1"
      },
      "execution_count": 9,
      "outputs": [
        {
          "output_type": "execute_result",
          "data": {
            "text/plain": [
              "(3999, 10)"
            ]
          },
          "metadata": {},
          "execution_count": 9
        }
      ]
    },
    {
      "cell_type": "markdown",
      "source": [
        "#Step 4: PCA"
      ],
      "metadata": {
        "id": "0KvtX7ePck6T"
      }
    },
    {
      "cell_type": "code",
      "source": [
        "4.1 Running PCA of standardized data."
      ],
      "metadata": {
        "id": "skb1oQoEcmyk"
      },
      "execution_count": null,
      "outputs": []
    },
    {
      "cell_type": "code",
      "source": [
        "# applying PCA on std_df\n",
        "\n",
        "# we are considering 95% variance in n_components to not loose any data.\n",
        "\n",
        "from sklearn.decomposition import PCA\n",
        "pca_std = PCA(random_state=10, n_components=0.95)\n",
        "pca_std_df= pca_std.fit_transform(std_df)"
      ],
      "metadata": {
        "id": "73jpVXzkcqRe"
      },
      "execution_count": 10,
      "outputs": []
    },
    {
      "cell_type": "code",
      "source": [
        "# eigenvalues..\n",
        "\n",
        "print(pca_std.singular_values_)"
      ],
      "metadata": {
        "colab": {
          "base_uri": "https://localhost:8080/"
        },
        "id": "e9f3_HK-czDd",
        "outputId": "cc78a3a9-b1b6-4dee-8cca-ee9ad526c702"
      },
      "execution_count": 11,
      "outputs": [
        {
          "output_type": "stream",
          "name": "stdout",
          "text": [
            "[110.44189995  83.11377294  64.82616793  63.48944763  61.96605949\n",
            "  60.17942085  51.82140955  38.09870033]\n"
          ]
        }
      ]
    },
    {
      "cell_type": "code",
      "source": [
        "# variance containing in each formed PCA\n",
        "\n",
        "print(pca_std.explained_variance_ratio_*100)"
      ],
      "metadata": {
        "colab": {
          "base_uri": "https://localhost:8080/"
        },
        "id": "rjN7Xq9Ic0IS",
        "outputId": "e88f81f6-473c-450c-e230-ef74292567ca"
      },
      "execution_count": 12,
      "outputs": [
        {
          "output_type": "stream",
          "name": "stdout",
          "text": [
            "[30.50115845 17.27406665 10.5087073  10.07979485  9.60188179  9.05617078\n",
            "  6.71532505  3.62968484]\n"
          ]
        }
      ]
    },
    {
      "cell_type": "code",
      "source": [
        "# Cummulative variance ratio..\n",
        "\n",
        "# this will give an idea of, at how many no. of PCAs, the cummulative addition of\n",
        "#........variance will give much information..\n",
        "\n",
        "cum_variance = np.cumsum(pca_std.explained_variance_ratio_*100)\n",
        "cum_variance"
      ],
      "metadata": {
        "colab": {
          "base_uri": "https://localhost:8080/"
        },
        "id": "gq8h6gOec5oX",
        "outputId": "269651f4-229f-40da-9ad5-a3dd9a7b67a9"
      },
      "execution_count": 13,
      "outputs": [
        {
          "output_type": "execute_result",
          "data": {
            "text/plain": [
              "array([30.50115845, 47.7752251 , 58.28393239, 68.36372724, 77.96560903,\n",
              "       87.02177981, 93.73710486, 97.3667897 ])"
            ]
          },
          "metadata": {},
          "execution_count": 13
        }
      ]
    },
    {
      "cell_type": "markdown",
      "source": [
        "Conclusion:\n",
        "\n",
        "by applying PCA on standardized data with 95% variance it gives 8 PCA components."
      ],
      "metadata": {
        "id": "R4Z3LSLxdBmQ"
      }
    },
    {
      "cell_type": "markdown",
      "source": [
        "4.2 Running PCA of MinMaxscalar data"
      ],
      "metadata": {
        "id": "DknzE75XdFcV"
      }
    },
    {
      "cell_type": "code",
      "source": [
        "# applying PCA on minmax_df\n",
        "\n",
        "from sklearn.decomposition import PCA\n",
        "\n",
        "pca_minmax =  PCA(random_state=10, n_components=0.95)\n",
        "pca_minmax_df = pca_minmax.fit_transform(minmax_df)"
      ],
      "metadata": {
        "id": "P7ZFXR2RdJhx"
      },
      "execution_count": 14,
      "outputs": []
    },
    {
      "cell_type": "code",
      "source": [
        "# eigenvalues..\n",
        "\n",
        "print(pca_minmax.singular_values_)"
      ],
      "metadata": {
        "colab": {
          "base_uri": "https://localhost:8080/"
        },
        "id": "TveBg4VhdLGz",
        "outputId": "bebe07b5-d050-440f-edba-b1712fd5dcf8"
      },
      "execution_count": 15,
      "outputs": [
        {
          "output_type": "stream",
          "name": "stdout",
          "text": [
            "[23.30644253 14.98078096  6.73641543  4.71018421  4.35528647]\n"
          ]
        }
      ]
    },
    {
      "cell_type": "code",
      "source": [
        "# variance containing in each formed PCA\n",
        "\n",
        "print(pca_minmax.explained_variance_ratio_*100)"
      ],
      "metadata": {
        "colab": {
          "base_uri": "https://localhost:8080/"
        },
        "id": "d5Rdc8HzdODG",
        "outputId": "62799511-0abd-4502-b102-d00eb7a2dfb1"
      },
      "execution_count": 16,
      "outputs": [
        {
          "output_type": "stream",
          "name": "stdout",
          "text": [
            "[60.47067269 24.98398618  5.05185116  2.46983879  2.11167109]\n"
          ]
        }
      ]
    },
    {
      "cell_type": "markdown",
      "source": [
        "Conclusion:\n",
        "\n",
        "By applying PCA on MinMaxscalr transformation data gives 5 PCA components."
      ],
      "metadata": {
        "id": "A6cpVk3VdTmE"
      }
    },
    {
      "cell_type": "markdown",
      "source": [
        "##Step 5: KMeans Clustering.\n"
      ],
      "metadata": {
        "id": "VRMxi5ODdYhq"
      }
    },
    {
      "cell_type": "markdown",
      "source": [
        "#5.1.1 How many numbers of cluster. Also deciding which transformation data we will use to build model."
      ],
      "metadata": {
        "id": "wk-XEZUQddsD"
      }
    },
    {
      "cell_type": "code",
      "source": [
        "Method1:"
      ],
      "metadata": {
        "id": "0wPGQzEQde_t"
      },
      "execution_count": null,
      "outputs": []
    },
    {
      "cell_type": "code",
      "source": [
        "# 1. How many number of clusters? n_clusters?\n",
        "\n",
        "# Since true labels are not known..we will Silhouette Coefficient (Clustering performance evaluation)\n",
        "# knee Elbow graph method\n",
        "\n",
        "#Import the KElbowVisualizer method\n",
        "from sklearn.cluster import KMeans\n",
        "from yellowbrick.cluster import KElbowVisualizer\n",
        "\n",
        "model1 = KMeans(random_state=0,)\n",
        "model2 = KMeans(random_state=10, max_iter=500, n_init=20,)\n"
      ],
      "metadata": {
        "id": "OUhtaZ1adkyL"
      },
      "execution_count": 25,
      "outputs": []
    },
    {
      "cell_type": "code",
      "source": [
        "# Instantiate the KElbowVisualizer with the number of clusters and the metric\n",
        "visualizer1 = KElbowVisualizer(model1, k=(2,10), metric='silhouette', timings=False)\n",
        "visualizer2 = KElbowVisualizer(model2, k=(2,10), metric='silhouette', timings=False)"
      ],
      "metadata": {
        "id": "yUG9-SXpeaxc"
      },
      "execution_count": 26,
      "outputs": []
    },
    {
      "cell_type": "code",
      "source": [
        "# Fit the data and visualize\n",
        "print('model1')\n",
        "visualizer1.fit(pca_std_df)    \n",
        "visualizer1.poof()\n",
        "plt.show()"
      ],
      "metadata": {
        "colab": {
          "base_uri": "https://localhost:8080/",
          "height": 393
        },
        "id": "Eki3HICcefC3",
        "outputId": "7631075e-29d7-4943-8da3-84c97dbd6135"
      },
      "execution_count": 27,
      "outputs": [
        {
          "output_type": "stream",
          "name": "stdout",
          "text": [
            "model1\n"
          ]
        },
        {
          "output_type": "display_data",
          "data": {
            "text/plain": [
              "<Figure size 576x396 with 1 Axes>"
            ],
            "image/png": "[encoded data removed]"
          },
          "metadata": {}
        }
      ]
    },
    {
      "cell_type": "code",
      "source": [
        "print('model2')\n",
        "visualizer2.fit(pca_std_df)    \n",
        "visualizer2.poof()\n",
        "plt.show()"
      ],
      "metadata": {
        "colab": {
          "base_uri": "https://localhost:8080/",
          "height": 393
        },
        "id": "PJFV_G8Sej1f",
        "outputId": "b540bba0-3564-44b8-96d1-32690c751b3b"
      },
      "execution_count": 28,
      "outputs": [
        {
          "output_type": "stream",
          "name": "stdout",
          "text": [
            "model2\n"
          ]
        },
        {
          "output_type": "display_data",
          "data": {
            "text/plain": [
              "<Figure size 576x396 with 1 Axes>"
            ],
            "image/png": "[encoded data removed]"
          },
          "metadata": {}
        }
      ]
    },
    {
      "cell_type": "markdown",
      "source": [
        "Conclusion:\n",
        "Since we don't know true labels so we have used silhoutte score method to determine good k numbers based on score.\n",
        "Also it is proved that even if we feed data either PCA or scaled data outliers will always affect in kmeans clustering. Also when random_state value, max_iter number n_int chnaged the clustering numbers changed.\n",
        "So before using KMeans clustering it is better to have discussion or decision on outliers."
      ],
      "metadata": {
        "id": "u-IEV6Nees9g"
      }
    },
    {
      "cell_type": "code",
      "source": [
        "from sklearn.metrics import silhouette_score\n",
        "\n",
        "list1= [2,3,4,5,6,7,8,9]  # always start number from 2.\n",
        "\n",
        "for n_clusters in list1:\n",
        "    clusterer1 = KMeans(n_clusters=n_clusters, random_state=0,)\n",
        "    cluster_labels1 = clusterer1.fit_predict(pca_std_df)\n",
        "    sil_score1= silhouette_score(pca_std_df, cluster_labels1)\n",
        "    print(\"For n_clusters =\", n_clusters,\"The average silhouette_score is :\", sil_score1)"
      ],
      "metadata": {
        "colab": {
          "base_uri": "https://localhost:8080/"
        },
        "id": "CdMjkplgeuQa",
        "outputId": "c757ab3e-1107-4436-e944-903af2f0d64c"
      },
      "execution_count": 30,
      "outputs": [
        {
          "output_type": "stream",
          "name": "stdout",
          "text": [
            "For n_clusters = 2 The average silhouette_score is : 0.3639788167896161\n",
            "For n_clusters = 3 The average silhouette_score is : 0.33580068936862495\n",
            "For n_clusters = 4 The average silhouette_score is : 0.3381189559647611\n",
            "For n_clusters = 5 The average silhouette_score is : 0.35457512986918294\n",
            "For n_clusters = 6 The average silhouette_score is : 0.36628692523309747\n",
            "For n_clusters = 7 The average silhouette_score is : 0.26812534351796047\n",
            "For n_clusters = 8 The average silhouette_score is : 0.2733658800277049\n",
            "For n_clusters = 9 The average silhouette_score is : 0.290207803847477\n"
          ]
        }
      ]
    },
    {
      "cell_type": "code",
      "source": [
        "Conclusion:\n",
        "By taking standardize data pca it gives number of cluster =6 with silhoette score = 0.36"
      ],
      "metadata": {
        "id": "rUT1Ud_De5jc"
      },
      "execution_count": null,
      "outputs": []
    },
    {
      "cell_type": "markdown",
      "source": [
        "*Second Stage: Taking MinMaxScalar transformation data & PCA applied on it.*"
      ],
      "metadata": {
        "id": "k6e1At9Fe_FC"
      }
    },
    {
      "cell_type": "code",
      "source": [
        "# 1. How many number of clusters? n_clusters?\n",
        "\n",
        "# Since true labels are not known..we will Silhouette Coefficient (Clustering performance evaluation)\n",
        "# knee Elbow graph method\n",
        "\n",
        "#Import the KElbowVisualizer method\n",
        "from sklearn.cluster import KMeans\n",
        "from yellowbrick.cluster import KElbowVisualizer\n"
      ],
      "metadata": {
        "id": "3YknVmKxfCGE"
      },
      "execution_count": 32,
      "outputs": []
    },
    {
      "cell_type": "code",
      "source": [
        "# Instantiate a scikit-learn K-Means model. we will check for two diff hyperparameters value effect.\n",
        "model3 = KMeans(random_state=0)\n",
        "model4 = KMeans(random_state=10, max_iter=500, n_init=20)"
      ],
      "metadata": {
        "id": "-tqhnnLGfHnu"
      },
      "execution_count": 33,
      "outputs": []
    },
    {
      "cell_type": "code",
      "source": [
        "# Instantiate the KElbowVisualizer with the number of clusters and the metric\n",
        "visualizer3 = KElbowVisualizer(model3, k=(2,10), metric='silhouette', timings=False)\n",
        "visualizer4 = KElbowVisualizer(model4, k=(2,10), metric='silhouette', timings=False)\n",
        "# Fit the data and visualize\n",
        "print('model3')\n",
        "visualizer3.fit(pca_minmax_df)    \n",
        "visualizer3.poof()\n",
        "plt.show()\n",
        "\n",
        "print('model4')\n",
        "visualizer4.fit(pca_minmax_df)    \n",
        "visualizer4.poof()\n",
        "plt.show()"
      ],
      "metadata": {
        "colab": {
          "base_uri": "https://localhost:8080/",
          "height": 770
        },
        "id": "icwXwH3wfTFo",
        "outputId": "a752fcc3-bd53-4f02-f885-e132b34b6c31"
      },
      "execution_count": 34,
      "outputs": [
        {
          "output_type": "stream",
          "name": "stdout",
          "text": [
            "model3\n"
          ]
        },
        {
          "output_type": "display_data",
          "data": {
            "text/plain": [
              "<Figure size 576x396 with 1 Axes>"
            ],
            "image/png": "[encoded data removed]"
          },
          "metadata": {}
        },
        {
          "output_type": "stream",
          "name": "stdout",
          "text": [
            "model4\n"
          ]
        },
        {
          "output_type": "display_data",
          "data": {
            "text/plain": [
              "<Figure size 576x396 with 1 Axes>"
            ],
            "image/png": "[encoded data removed]"
          },
          "metadata": {}
        }
      ]
    },
    {
      "cell_type": "code",
      "source": [
        "from sklearn.metrics import silhouette_score\n",
        "\n",
        "list1= [2,3,4,5,6,7,8,9]  # always start number from 2.\n",
        "\n",
        "for n_clusters in list1:\n",
        "    clusterer2 = KMeans(n_clusters=n_clusters, random_state=0)\n",
        "    cluster_labels2 = clusterer1.fit_predict(pca_minmax_df)\n",
        "    sil_score2= silhouette_score(pca_std_df, cluster_labels2)\n",
        "    print(\"For n_clusters =\", n_clusters,\"The average silhouette_score is :\", sil_score2)"
      ],
      "metadata": {
        "colab": {
          "base_uri": "https://localhost:8080/"
        },
        "id": "btE9RoinfYYx",
        "outputId": "d7358a84-122c-4abe-c16e-bd4e803a4198"
      },
      "execution_count": 36,
      "outputs": [
        {
          "output_type": "stream",
          "name": "stdout",
          "text": [
            "For n_clusters = 2 The average silhouette_score is : 0.1589810244178699\n",
            "For n_clusters = 3 The average silhouette_score is : 0.1589810244178699\n",
            "For n_clusters = 4 The average silhouette_score is : 0.1589810244178699\n",
            "For n_clusters = 5 The average silhouette_score is : 0.1589810244178699\n",
            "For n_clusters = 6 The average silhouette_score is : 0.1589810244178699\n",
            "For n_clusters = 7 The average silhouette_score is : 0.1589810244178699\n",
            "For n_clusters = 8 The average silhouette_score is : 0.1589810244178699\n",
            "For n_clusters = 9 The average silhouette_score is : 0.1589810244178699\n"
          ]
        }
      ]
    },
    {
      "cell_type": "markdown",
      "source": [
        "Conclusion:\n",
        "By taking pca_minmax_df data it gives minimum number of cluster =4 with silhoette score = 0.1476\n",
        "If we check silhouette score with standardize data pca kmeans model 0.36>0.14 So we will PCA which is applied on normalizatied data. Since the score is very less. Best score alwways close to +1."
      ],
      "metadata": {
        "id": "XwUoUOp0fm4X"
      }
    },
    {
      "cell_type": "markdown",
      "source": [
        "5.1.2 Run K-Means:"
      ],
      "metadata": {
        "id": "ukjBsZozfskV"
      }
    },
    {
      "cell_type": "code",
      "source": [
        "# we have found good number of cluster = 6\n",
        "# model building using cluster numbers = 6\n",
        "\n",
        "model1 = KMeans(n_clusters=6, random_state=0)\n",
        "y_predict1 = model1.fit_predict(pca_std_df)\n",
        "y_predict1.shape"
      ],
      "metadata": {
        "colab": {
          "base_uri": "https://localhost:8080/"
        },
        "id": "ZhGcg085ftoJ",
        "outputId": "e28506e6-bf7d-4ab0-acf0-6c9ac1e487e4"
      },
      "execution_count": 38,
      "outputs": [
        {
          "output_type": "execute_result",
          "data": {
            "text/plain": [
              "(3999,)"
            ]
          },
          "metadata": {},
          "execution_count": 38
        }
      ]
    },
    {
      "cell_type": "markdown",
      "source": [
        "# these are nothing but cluster labels...\n",
        "\n",
        "y_predict1"
      ],
      "metadata": {
        "id": "d9qF4PpRf2Sf"
      }
    },
    {
      "cell_type": "code",
      "source": [
        "y_predict1"
      ],
      "metadata": {
        "colab": {
          "base_uri": "https://localhost:8080/"
        },
        "id": "9S_L8pNyf3S6",
        "outputId": "7cd09329-5ef2-41f7-a7f3-5c34d8f3a76f"
      },
      "execution_count": 39,
      "outputs": [
        {
          "output_type": "execute_result",
          "data": {
            "text/plain": [
              "array([1, 1, 1, ..., 1, 1, 1], dtype=int32)"
            ]
          },
          "metadata": {},
          "execution_count": 39
        }
      ]
    },
    {
      "cell_type": "code",
      "source": [
        "# y_predict & cluster labels both are same use any one of them to avoid further confusion.\n",
        "\n",
        "model1.labels_"
      ],
      "metadata": {
        "colab": {
          "base_uri": "https://localhost:8080/"
        },
        "id": "PdLeufpEf-eJ",
        "outputId": "c0eec932-faed-4d57-ddb8-7d6edd2be4c8"
      },
      "execution_count": 40,
      "outputs": [
        {
          "output_type": "execute_result",
          "data": {
            "text/plain": [
              "array([1, 1, 1, ..., 1, 1, 1], dtype=int32)"
            ]
          },
          "metadata": {},
          "execution_count": 40
        }
      ]
    },
    {
      "cell_type": "code",
      "source": [
        "# cluster centres associated with each lables\n",
        "\n",
        "model1.cluster_centers_"
      ],
      "metadata": {
        "colab": {
          "base_uri": "https://localhost:8080/"
        },
        "id": "q4YNXEdkgBaI",
        "outputId": "c314194e-05a7-4a3c-e6d7-1e0ff6722863"
      },
      "execution_count": 41,
      "outputs": [
        {
          "output_type": "execute_result",
          "data": {
            "text/plain": [
              "array([[ 1.00930830e+00,  1.64553073e+00, -3.00204858e+00,\n",
              "        -1.50525621e+00,  4.87613963e+00, -2.83327858e+00,\n",
              "        -8.15524057e-01, -2.42368955e-02],\n",
              "       [-1.04312258e+00,  2.60937871e-01, -1.57354688e-02,\n",
              "        -8.62930270e-02, -5.29463412e-02,  1.40872802e-01,\n",
              "         5.55074837e-02,  9.04844177e-04],\n",
              "       [ 4.35245436e+00, -3.63296061e+00,  8.67825558e+00,\n",
              "        -7.27101378e+00,  7.22379804e+00,  6.82996771e+00,\n",
              "         1.09780252e-01, -3.57742407e-01],\n",
              "       [ 1.39804051e+00, -1.00275351e+00, -7.94776789e-02,\n",
              "         9.64914049e-02, -2.55443434e-01, -2.46040607e-01,\n",
              "        -6.93666285e-02, -2.00121569e-02],\n",
              "       [ 4.25165028e+00,  4.10908160e+00,  1.48662899e-01,\n",
              "        -2.15415252e-01, -6.18448771e-01,  4.99526780e-01,\n",
              "        -5.24799096e-02,  1.44221559e-01],\n",
              "       [ 4.76675141e-02,  1.06794180e+00,  3.90187367e+00,\n",
              "         7.28531492e+00,  3.55053601e+00, -6.82561937e-01,\n",
              "         2.01781543e-01,  2.39276034e-01]])"
            ]
          },
          "metadata": {},
          "execution_count": 41
        }
      ]
    },
    {
      "cell_type": "code",
      "source": [
        "# within-cluster sum of squared\n",
        "\n",
        "# The lower values of inertia are better and zero is optimal.\n",
        "# Inertia is the sum of squared error for each cluster. \n",
        "# Therefore the smaller the inertia the denser the cluster(closer together all the points are)\n",
        "\n",
        "model1.inertia_"
      ],
      "metadata": {
        "colab": {
          "base_uri": "https://localhost:8080/"
        },
        "id": "0BhDzUNWgFH6",
        "outputId": "edce6b4b-cd51-4de7-801e-f99beb445b72"
      },
      "execution_count": 42,
      "outputs": [
        {
          "output_type": "execute_result",
          "data": {
            "text/plain": [
              "16718.170043374128"
            ]
          },
          "metadata": {},
          "execution_count": 42
        }
      ]
    },
    {
      "cell_type": "code",
      "source": [
        "model1.score(pca_std_df) \n",
        "\n",
        "# it is opposite value of sum of squared value..avoid to use it. It is bit confusing"
      ],
      "metadata": {
        "colab": {
          "base_uri": "https://localhost:8080/"
        },
        "id": "_jrLlHNRgIiY",
        "outputId": "f0b9bb56-3723-49b6-aab9-a764ccef35fe"
      },
      "execution_count": 43,
      "outputs": [
        {
          "output_type": "execute_result",
          "data": {
            "text/plain": [
              "-16718.170043374128"
            ]
          },
          "metadata": {},
          "execution_count": 43
        }
      ]
    },
    {
      "cell_type": "code",
      "source": [
        "# this will give what hyper parameter is used in model.\n",
        "\n",
        "\n",
        "model1.get_params()"
      ],
      "metadata": {
        "colab": {
          "base_uri": "https://localhost:8080/"
        },
        "id": "8W5LONkvgL2G",
        "outputId": "43bcc2ec-7751-49d7-e979-301727c94f24"
      },
      "execution_count": 44,
      "outputs": [
        {
          "output_type": "execute_result",
          "data": {
            "text/plain": [
              "{'algorithm': 'auto',\n",
              " 'copy_x': True,\n",
              " 'init': 'k-means++',\n",
              " 'max_iter': 300,\n",
              " 'n_clusters': 6,\n",
              " 'n_init': 10,\n",
              " 'random_state': 0,\n",
              " 'tol': 0.0001,\n",
              " 'verbose': 0}"
            ]
          },
          "metadata": {},
          "execution_count": 44
        }
      ]
    },
    {
      "cell_type": "markdown",
      "source": [
        "5.1.3 visualizing silhoutte score..for different cluster"
      ],
      "metadata": {
        "id": "ipLqy3zAgQux"
      }
    },
    {
      "cell_type": "code",
      "source": [
        "from yellowbrick.cluster import SilhouetteVisualizer\n",
        "\n",
        "fig,(ax1,ax2) = plt.subplots(1,2,sharey=False)\n",
        "fig.set_size_inches(15,6)\n",
        "\n",
        "\n",
        "\n",
        "sil_visualizer1 = SilhouetteVisualizer(model1,ax= ax1, colors=['#922B21','#5B2C6F','#1B4F72','#32a84a','#a83232','#323aa8'])\n",
        "sil_visualizer1.fit(pca_std_df)\n",
        "\n",
        "# 2nd Plot showing the actual clusters formed\n",
        "\n",
        "import matplotlib.cm as cm\n",
        "colors1 = cm.nipy_spectral(model1.labels_.astype(float) / 6) # 6 is number of clusters\n",
        "ax2.scatter(pca_std_df[:, 0], pca_std_df[:, 1], marker='.', s=30, lw=0, alpha=0.7,\n",
        "                c=colors1, edgecolor='k')\n",
        "\n",
        "# Labeling the clusters\n",
        "centers1 = model1.cluster_centers_\n",
        "# Draw white circles at cluster centers\n",
        "ax2.scatter(centers1[:, 0], centers1[:, 1], marker='o',c=\"white\", alpha=1, s=200, edgecolor='k')\n",
        "\n",
        "for i, c in enumerate(centers1):\n",
        "    ax2.scatter(c[0], c[1], marker='$%d$' % i, alpha=1,s=50, edgecolor='k')\n",
        "\n",
        "\n",
        "ax2.set_title(label =\"The visualization of the clustered data.\")\n",
        "ax2.set_xlabel(\"Feature space for the 1st feature\")\n",
        "ax2.set_ylabel(\"Feature space for the 2nd feature\")\n",
        "\n",
        "plt.suptitle((\"Silhouette analysis for KMeans clustering on sample data \"\n",
        "                  \"with n_clusters = %d\" % 6),fontsize=14, fontweight='bold')\n",
        "\n",
        "sil_visualizer1.show()\n",
        "plt.show()\n"
      ],
      "metadata": {
        "colab": {
          "base_uri": "https://localhost:8080/",
          "height": 431
        },
        "id": "USi2STt0gRmh",
        "outputId": "3c6d09fd-949a-4da4-a974-f7a89e0c0ad1"
      },
      "execution_count": 46,
      "outputs": [
        {
          "output_type": "display_data",
          "data": {
            "text/plain": [
              "<Figure size 1080x432 with 2 Axes>"
            ],
            "image/png": "[encoded data removed]"
          },
          "metadata": {}
        }
      ]
    },
    {
      "cell_type": "markdown",
      "source": [
        "5.1.4 Putting Cluster lables into original dataset And analysis of the same"
      ],
      "metadata": {
        "id": "wZmhFF5AgigK"
      }
    },
    {
      "cell_type": "code",
      "source": [
        "# Creating dataframe of cluster lables..\n",
        "\n",
        "model1_cluster = pd.DataFrame(model1.labels_.copy(), columns=['Kmeans_Clustering'])"
      ],
      "metadata": {
        "id": "k3R7ACxRgjdq"
      },
      "execution_count": 49,
      "outputs": []
    },
    {
      "cell_type": "code",
      "source": [
        "# Concating model1_Cluster df with main dataset copy\n",
        "\n",
        "Kmeans_df = pd.concat([dataset.copy(), model1_cluster], axis=1)\n",
        "Kmeans_df.head()"
      ],
      "metadata": {
        "colab": {
          "base_uri": "https://localhost:8080/",
          "height": 270
        },
        "id": "A8W5vDbUgmI0",
        "outputId": "d6d2b60d-555f-404a-f32c-ed2b9900aaf3"
      },
      "execution_count": 50,
      "outputs": [
        {
          "output_type": "execute_result",
          "data": {
            "text/plain": [
              "   ID  Balance  Qual_miles  cc1_miles  cc2_miles  cc3_miles  Bonus_miles  \\\n",
              "0   1    28143           0          1          1          1          174   \n",
              "1   2    19244           0          1          1          1          215   \n",
              "2   3    41354           0          1          1          1         4123   \n",
              "3   4    14776           0          1          1          1          500   \n",
              "4   5    97752           0          4          1          1        43300   \n",
              "\n",
              "   Bonus_trans  Flight_miles_12mo  Flight_trans_12  Days_since_enroll  Award  \\\n",
              "0            1                  0                0               7000      0   \n",
              "1            2                  0                0               6968      0   \n",
              "2            4                  0                0               7034      0   \n",
              "3            1                  0                0               6952      0   \n",
              "4           26               2077                4               6935      1   \n",
              "\n",
              "   Kmeans_Clustering  \n",
              "0                  1  \n",
              "1                  1  \n",
              "2                  1  \n",
              "3                  1  \n",
              "4                  3  "
            ],
            "text/html": [
              "\n",
              "  <div id=\"df-b477d90a-42e6-4327-9c5f-8b877528254f\">\n",
              "    <div class=\"colab-df-container\">\n",
              "      <div>\n",
              "<style scoped>\n",
              "    .dataframe tbody tr th:only-of-type {\n",
              "        vertical-align: middle;\n",
              "    }\n",
              "\n",
              "    .dataframe tbody tr th {\n",
              "        vertical-align: top;\n",
              "    }\n",
              "\n",
              "    .dataframe thead th {\n",
              "        text-align: right;\n",
              "    }\n",
              "</style>\n",
              "<table border=\"1\" class=\"dataframe\">\n",
              "  <thead>\n",
              "    <tr style=\"text-align: right;\">\n",
              "      <th></th>\n",
              "      <th>ID</th>\n",
              "      <th>Balance</th>\n",
              "      <th>Qual_miles</th>\n",
              "      <th>cc1_miles</th>\n",
              "      <th>cc2_miles</th>\n",
              "      <th>cc3_miles</th>\n",
              "      <th>Bonus_miles</th>\n",
              "      <th>Bonus_trans</th>\n",
              "      <th>Flight_miles_12mo</th>\n",
              "      <th>Flight_trans_12</th>\n",
              "      <th>Days_since_enroll</th>\n",
              "      <th>Award</th>\n",
              "      <th>Kmeans_Clustering</th>\n",
              "    </tr>\n",
              "  </thead>\n",
              "  <tbody>\n",
              "    <tr>\n",
              "      <th>0</th>\n",
              "      <td>1</td>\n",
              "      <td>28143</td>\n",
              "      <td>0</td>\n",
              "      <td>1</td>\n",
              "      <td>1</td>\n",
              "      <td>1</td>\n",
              "      <td>174</td>\n",
              "      <td>1</td>\n",
              "      <td>0</td>\n",
              "      <td>0</td>\n",
              "      <td>7000</td>\n",
              "      <td>0</td>\n",
              "      <td>1</td>\n",
              "    </tr>\n",
              "    <tr>\n",
              "      <th>1</th>\n",
              "      <td>2</td>\n",
              "      <td>19244</td>\n",
              "      <td>0</td>\n",
              "      <td>1</td>\n",
              "      <td>1</td>\n",
              "      <td>1</td>\n",
              "      <td>215</td>\n",
              "      <td>2</td>\n",
              "      <td>0</td>\n",
              "      <td>0</td>\n",
              "      <td>6968</td>\n",
              "      <td>0</td>\n",
              "      <td>1</td>\n",
              "    </tr>\n",
              "    <tr>\n",
              "      <th>2</th>\n",
              "      <td>3</td>\n",
              "      <td>41354</td>\n",
              "      <td>0</td>\n",
              "      <td>1</td>\n",
              "      <td>1</td>\n",
              "      <td>1</td>\n",
              "      <td>4123</td>\n",
              "      <td>4</td>\n",
              "      <td>0</td>\n",
              "      <td>0</td>\n",
              "      <td>7034</td>\n",
              "      <td>0</td>\n",
              "      <td>1</td>\n",
              "    </tr>\n",
              "    <tr>\n",
              "      <th>3</th>\n",
              "      <td>4</td>\n",
              "      <td>14776</td>\n",
              "      <td>0</td>\n",
              "      <td>1</td>\n",
              "      <td>1</td>\n",
              "      <td>1</td>\n",
              "      <td>500</td>\n",
              "      <td>1</td>\n",
              "      <td>0</td>\n",
              "      <td>0</td>\n",
              "      <td>6952</td>\n",
              "      <td>0</td>\n",
              "      <td>1</td>\n",
              "    </tr>\n",
              "    <tr>\n",
              "      <th>4</th>\n",
              "      <td>5</td>\n",
              "      <td>97752</td>\n",
              "      <td>0</td>\n",
              "      <td>4</td>\n",
              "      <td>1</td>\n",
              "      <td>1</td>\n",
              "      <td>43300</td>\n",
              "      <td>26</td>\n",
              "      <td>2077</td>\n",
              "      <td>4</td>\n",
              "      <td>6935</td>\n",
              "      <td>1</td>\n",
              "      <td>3</td>\n",
              "    </tr>\n",
              "  </tbody>\n",
              "</table>\n",
              "</div>\n",
              "      <button class=\"colab-df-convert\" onclick=\"convertToInteractive('df-b477d90a-42e6-4327-9c5f-8b877528254f')\"\n",
              "              title=\"Convert this dataframe to an interactive table.\"\n",
              "              style=\"display:none;\">\n",
              "        \n",
              "  <svg xmlns=\"http://www.w3.org/2000/svg\" height=\"24px\"viewBox=\"0 0 24 24\"\n",
              "       width=\"24px\">\n",
              "    <path d=\"M0 0h24v24H0V0z\" fill=\"none\"/>\n",
              "    <path d=\"M18.56 5.44l.94 2.06.94-2.06 2.06-.94-2.06-.94-.94-2.06-.94 2.06-2.06.94zm-11 1L8.5 8.5l.94-2.06 2.06-.94-2.06-.94L8.5 2.5l-.94 2.06-2.06.94zm10 10l.94 2.06.94-2.06 2.06-.94-2.06-.94-.94-2.06-.94 2.06-2.06.94z\"/><path d=\"M17.41 7.96l-1.37-1.37c-.4-.4-.92-.59-1.43-.59-.52 0-1.04.2-1.43.59L10.3 9.45l-7.72 7.72c-.78.78-.78 2.05 0 2.83L4 21.41c.39.39.9.59 1.41.59.51 0 1.02-.2 1.41-.59l7.78-7.78 2.81-2.81c.8-.78.8-2.07 0-2.86zM5.41 20L4 18.59l7.72-7.72 1.47 1.35L5.41 20z\"/>\n",
              "  </svg>\n",
              "      </button>\n",
              "      \n",
              "  <style>\n",
              "    .colab-df-container {\n",
              "      display:flex;\n",
              "      flex-wrap:wrap;\n",
              "      gap: 12px;\n",
              "    }\n",
              "\n",
              "    .colab-df-convert {\n",
              "      background-color: #E8F0FE;\n",
              "      border: none;\n",
              "      border-radius: 50%;\n",
              "      cursor: pointer;\n",
              "      display: none;\n",
              "      fill: #1967D2;\n",
              "      height: 32px;\n",
              "      padding: 0 0 0 0;\n",
              "      width: 32px;\n",
              "    }\n",
              "\n",
              "    .colab-df-convert:hover {\n",
              "      background-color: #E2EBFA;\n",
              "      box-shadow: 0px 1px 2px rgba(60, 64, 67, 0.3), 0px 1px 3px 1px rgba(60, 64, 67, 0.15);\n",
              "      fill: #174EA6;\n",
              "    }\n",
              "\n",
              "    [theme=dark] .colab-df-convert {\n",
              "      background-color: #3B4455;\n",
              "      fill: #D2E3FC;\n",
              "    }\n",
              "\n",
              "    [theme=dark] .colab-df-convert:hover {\n",
              "      background-color: #434B5C;\n",
              "      box-shadow: 0px 1px 3px 1px rgba(0, 0, 0, 0.15);\n",
              "      filter: drop-shadow(0px 1px 2px rgba(0, 0, 0, 0.3));\n",
              "      fill: #FFFFFF;\n",
              "    }\n",
              "  </style>\n",
              "\n",
              "      <script>\n",
              "        const buttonEl =\n",
              "          document.querySelector('#df-b477d90a-42e6-4327-9c5f-8b877528254f button.colab-df-convert');\n",
              "        buttonEl.style.display =\n",
              "          google.colab.kernel.accessAllowed ? 'block' : 'none';\n",
              "\n",
              "        async function convertToInteractive(key) {\n",
              "          const element = document.querySelector('#df-b477d90a-42e6-4327-9c5f-8b877528254f');\n",
              "          const dataTable =\n",
              "            await google.colab.kernel.invokeFunction('convertToInteractive',\n",
              "                                                     [key], {});\n",
              "          if (!dataTable) return;\n",
              "\n",
              "          const docLinkHtml = 'Like what you see? Visit the ' +\n",
              "            '<a target=\"_blank\" href=https://colab.research.google.com/notebooks/data_table.ipynb>data table notebook</a>'\n",
              "            + ' to learn more about interactive tables.';\n",
              "          element.innerHTML = '';\n",
              "          dataTable['output_type'] = 'display_data';\n",
              "          await google.colab.output.renderOutput(dataTable, element);\n",
              "          const docLink = document.createElement('div');\n",
              "          docLink.innerHTML = docLinkHtml;\n",
              "          element.appendChild(docLink);\n",
              "        }\n",
              "      </script>\n",
              "    </div>\n",
              "  </div>\n",
              "  "
            ]
          },
          "metadata": {},
          "execution_count": 50
        }
      ]
    },
    {
      "cell_type": "code",
      "source": [
        "# Plotting barplot using groupby method to get visualize how many row no. in each cluster\n",
        "\n",
        "fig, ax = plt.subplots(figsize=(10, 6))\n",
        "Kmeans_df.groupby(['Kmeans_Clustering']).count()['ID'].plot(kind='bar')\n",
        "plt.ylabel('ID Counts')\n",
        "plt.title('Kmeans Clustering (pca_std_df)',fontsize='large',fontweight='bold')\n",
        "ax.set_xlabel('Clusters', fontsize='large', fontweight='bold')\n",
        "ax.set_ylabel('ID counts', fontsize='large', fontweight='bold')\n",
        "plt.yticks(fontsize=15)\n",
        "plt.xticks(fontsize=15)\n",
        "plt.show()"
      ],
      "metadata": {
        "colab": {
          "base_uri": "https://localhost:8080/",
          "height": 408
        },
        "id": "lqKBZiqqgoW2",
        "outputId": "d3decc5d-61a9-49f4-e081-b5bccf3c835d"
      },
      "execution_count": 51,
      "outputs": [
        {
          "output_type": "display_data",
          "data": {
            "text/plain": [
              "<Figure size 720x432 with 1 Axes>"
            ],
            "image/png": "[encoded data removed]"
          },
          "metadata": {}
        }
      ]
    },
    {
      "cell_type": "code",
      "source": [
        ""
      ],
      "metadata": {
        "id": "rSUry55ygym7"
      },
      "execution_count": null,
      "outputs": []
    },
    {
      "cell_type": "markdown",
      "source": [
        "#Step 6: Hierarchical Clustering Algorithm"
      ],
      "metadata": {
        "id": "yhN0Czqng1Bw"
      }
    },
    {
      "cell_type": "markdown",
      "source": [
        "The key operation in hierarchical agglomerative clustering is to repeatedly combine the two nearest clusters into a larger cluster. There are three key questions that need to be answered first:"
      ],
      "metadata": {
        "id": "CSydrlAqg27X"
      }
    },
    {
      "cell_type": "markdown",
      "source": [
        "Hierarchical Clustering Sklearn"
      ],
      "metadata": {
        "id": "JuiWqrhShOip"
      }
    },
    {
      "cell_type": "markdown",
      "source": [
        "#6.1 How many numbers of cluster. Also deciding which transformation data we will use to build model."
      ],
      "metadata": {
        "id": "WVU1wFP2hQ1A"
      }
    },
    {
      "cell_type": "markdown",
      "source": [
        "Qiuck Notes:\n",
        "\n",
        "linkage{“ward”, “complete”, “average”, “single”}, default=”ward” Which linkage criterion to use. The linkage criterion determines which distance to use between sets of observation. The algorithm will merge the pairs of cluster that minimize this criterion.\n",
        "\n",
        "ward minimizes the variance of the clusters being merged.\n",
        "\n",
        "average uses the average of the distances of each observation of the two sets.\n",
        "\n",
        "complete or maximum linkage uses the maximum distances between all observations of the two sets.\n",
        "\n",
        "single uses the minimum of the distances between all observations of the two sets"
      ],
      "metadata": {
        "id": "ffiXBQdfhXsQ"
      }
    },
    {
      "cell_type": "markdown",
      "source": [
        "First Stage: Taking stadardization transformation data & PCA applied on it."
      ],
      "metadata": {
        "id": "2W5SdECUhYxg"
      }
    },
    {
      "cell_type": "markdown",
      "source": [
        "Method1: By using Dendrogram"
      ],
      "metadata": {
        "id": "7xV-FDUFhcR7"
      }
    },
    {
      "cell_type": "code",
      "source": [
        "# Applying Dendrogram on PCA data. Or you may apply it on Standardized/normalized indepedent variable data.\n",
        "# Here diffrent linkage method from hyperparameter is used to see diff between methods for understanding. \n",
        "# Ward method is commanly used since it is simpler to visualize understanding.\n",
        "# Find number of cluster's using color coding of dendrogram. Each color indicates one cluster.\n",
        "\n",
        "# import scipy.cluster.hierarchy as shc\n",
        "# for methods in ['single','complete','average','weighted','centroid','median','ward']: \n",
        "#     plt.figure(figsize =(20, 6)) \n",
        "    \n",
        "#     dict = {'fontsize':24,'fontweight' :16, 'color' : 'blue'}\n",
        "    \n",
        "#     plt.title('Visualising the data, Method- {}'.format(methods),fontdict = dict) \n",
        "#     Dendrogram1 = shc.dendrogram(shc.linkage(pca_std_df, method = methods,optimal_ordering=False))\n",
        "    \n",
        "# Note: the execution of this cell takes time so i have attached output graphs below"
      ],
      "metadata": {
        "id": "BXwqi8Y-hhsY"
      },
      "execution_count": 52,
      "outputs": []
    },
    {
      "cell_type": "code",
      "source": [
        "Method 2: Silhouette Score method."
      ],
      "metadata": {
        "id": "4bAYDASzhpix"
      },
      "execution_count": null,
      "outputs": []
    },
    {
      "cell_type": "code",
      "source": [
        "from sklearn.cluster import AgglomerativeClustering\n",
        "n_clusters = [2,3,4,5,6,7,8]  # always start number from 2.\n",
        "\n",
        "for n_clusters in n_clusters:\n",
        "    for linkages in [\"ward\", \"complete\", \"average\", \"single\"]:\n",
        "        hie_cluster1 = AgglomerativeClustering(n_clusters=n_clusters,linkage=linkages) # bydefault it takes linkage 'ward'\n",
        "        hie_labels1 = hie_cluster1.fit_predict(pca_std_df)\n",
        "        silhouette_score1 = silhouette_score(pca_std_df, hie_labels1)\n",
        "        print(\"For n_clusters =\", n_clusters,\"The average silhouette_score with linkage-\",linkages, ':',silhouette_score1)\n",
        "    print()"
      ],
      "metadata": {
        "colab": {
          "base_uri": "https://localhost:8080/"
        },
        "id": "l1M1azijhutv",
        "outputId": "0cf6ee74-c2cb-4f7c-b876-00898cf65a55"
      },
      "execution_count": 53,
      "outputs": [
        {
          "output_type": "stream",
          "name": "stdout",
          "text": [
            "For n_clusters = 2 The average silhouette_score with linkage- ward : 0.3139605594950551\n",
            "For n_clusters = 2 The average silhouette_score with linkage- complete : 0.8258402005485832\n",
            "For n_clusters = 2 The average silhouette_score with linkage- average : 0.8258402005485832\n",
            "For n_clusters = 2 The average silhouette_score with linkage- single : 0.7595573832017464\n",
            "\n",
            "For n_clusters = 3 The average silhouette_score with linkage- ward : 0.30995135558467196\n",
            "For n_clusters = 3 The average silhouette_score with linkage- complete : 0.7965798717740985\n",
            "For n_clusters = 3 The average silhouette_score with linkage- average : 0.7965798717740985\n",
            "For n_clusters = 3 The average silhouette_score with linkage- single : 0.7592925058168964\n",
            "\n",
            "For n_clusters = 4 The average silhouette_score with linkage- ward : 0.32824819737812944\n",
            "For n_clusters = 4 The average silhouette_score with linkage- complete : 0.6569044547102612\n",
            "For n_clusters = 4 The average silhouette_score with linkage- average : 0.6940154925011893\n",
            "For n_clusters = 4 The average silhouette_score with linkage- single : 0.5782302910327517\n",
            "\n",
            "For n_clusters = 5 The average silhouette_score with linkage- ward : 0.32184976822477807\n",
            "For n_clusters = 5 The average silhouette_score with linkage- complete : 0.5895211202883027\n",
            "For n_clusters = 5 The average silhouette_score with linkage- average : 0.6680397435345204\n",
            "For n_clusters = 5 The average silhouette_score with linkage- single : 0.5780925797482976\n",
            "\n",
            "For n_clusters = 6 The average silhouette_score with linkage- ward : 0.33657294558021417\n",
            "For n_clusters = 6 The average silhouette_score with linkage- complete : 0.6017997132632819\n",
            "For n_clusters = 6 The average silhouette_score with linkage- average : 0.6552479417757118\n",
            "For n_clusters = 6 The average silhouette_score with linkage- single : 0.5766100945284386\n",
            "\n",
            "For n_clusters = 7 The average silhouette_score with linkage- ward : 0.23686100392099604\n",
            "For n_clusters = 7 The average silhouette_score with linkage- complete : 0.607038138766296\n",
            "For n_clusters = 7 The average silhouette_score with linkage- average : 0.6523313170802642\n",
            "For n_clusters = 7 The average silhouette_score with linkage- single : 0.577425264078292\n",
            "\n",
            "For n_clusters = 8 The average silhouette_score with linkage- ward : 0.23276462445078197\n",
            "For n_clusters = 8 The average silhouette_score with linkage- complete : 0.6026762863226711\n",
            "For n_clusters = 8 The average silhouette_score with linkage- average : 0.6481701789160171\n",
            "For n_clusters = 8 The average silhouette_score with linkage- single : 0.5741494479569028\n",
            "\n"
          ]
        }
      ]
    },
    {
      "cell_type": "markdown",
      "source": [
        "Conclusion: Although max score is with cluster numbers 4. I have selected tcluster number = 5"
      ],
      "metadata": {
        "id": "ikui7G1eh1xA"
      }
    },
    {
      "cell_type": "markdown",
      "source": [
        "Second Stage: Taking MinMax transformation data & PCA applied on it."
      ],
      "metadata": {
        "id": "q4v8fs38h3zb"
      }
    },
    {
      "cell_type": "code",
      "source": [
        "### Here i have avoded to apply dendrogram since it takes time to run code."
      ],
      "metadata": {
        "id": "g90TjkbBh8vz"
      },
      "execution_count": null,
      "outputs": []
    },
    {
      "cell_type": "code",
      "source": [
        "from sklearn.cluster import AgglomerativeClustering\n",
        "n_clusters = [2,3,4,5,6,7,8]  # always start number from 2.\n",
        "\n",
        "for n_clusters in n_clusters:\n",
        "    for linkages in [\"ward\", \"complete\", \"average\", \"single\"]:\n",
        "        hie_cluster2 = AgglomerativeClustering(n_clusters=n_clusters,linkage=linkages) # bydefault it takes linkage 'ward'\n",
        "        hie_labels2 = hie_cluster2.fit_predict(pca_minmax_df)\n",
        "        silhouette_score2 = silhouette_score(pca_minmax_df, hie_labels2)\n",
        "        print(\"For n_clusters =\", n_clusters,\"The average silhouette_score with linkage-\",linkages, ':',silhouette_score2)\n",
        "    print()"
      ],
      "metadata": {
        "colab": {
          "base_uri": "https://localhost:8080/"
        },
        "id": "O56ylRLoh_Ol",
        "outputId": "6a05dcfe-05ad-4a20-c59e-8aea3b284f60"
      },
      "execution_count": 54,
      "outputs": [
        {
          "output_type": "stream",
          "name": "stdout",
          "text": [
            "For n_clusters = 2 The average silhouette_score with linkage- ward : 0.45263516644787444\n",
            "For n_clusters = 2 The average silhouette_score with linkage- complete : 0.5857808960475939\n",
            "For n_clusters = 2 The average silhouette_score with linkage- average : 0.5003973034034863\n",
            "For n_clusters = 2 The average silhouette_score with linkage- single : 0.6061073734453644\n",
            "\n",
            "For n_clusters = 3 The average silhouette_score with linkage- ward : 0.3739125364654645\n",
            "For n_clusters = 3 The average silhouette_score with linkage- complete : 0.4542833655116026\n",
            "For n_clusters = 3 The average silhouette_score with linkage- average : 0.45064261018788865\n",
            "For n_clusters = 3 The average silhouette_score with linkage- single : 0.5029366855064072\n",
            "\n",
            "For n_clusters = 4 The average silhouette_score with linkage- ward : 0.36547786997315546\n",
            "For n_clusters = 4 The average silhouette_score with linkage- complete : 0.45615471007123654\n",
            "For n_clusters = 4 The average silhouette_score with linkage- average : 0.39465688584567477\n",
            "For n_clusters = 4 The average silhouette_score with linkage- single : 0.28360363211949025\n",
            "\n",
            "For n_clusters = 5 The average silhouette_score with linkage- ward : 0.3581084898031202\n",
            "For n_clusters = 5 The average silhouette_score with linkage- complete : 0.4408054026980519\n",
            "For n_clusters = 5 The average silhouette_score with linkage- average : 0.3475089360576494\n",
            "For n_clusters = 5 The average silhouette_score with linkage- single : 0.2809218844813484\n",
            "\n",
            "For n_clusters = 6 The average silhouette_score with linkage- ward : 0.3713800645711787\n",
            "For n_clusters = 6 The average silhouette_score with linkage- complete : 0.38572273494486886\n",
            "For n_clusters = 6 The average silhouette_score with linkage- average : 0.2766820814868121\n",
            "For n_clusters = 6 The average silhouette_score with linkage- single : 0.1251952683330894\n",
            "\n",
            "For n_clusters = 7 The average silhouette_score with linkage- ward : 0.3533060073536759\n",
            "For n_clusters = 7 The average silhouette_score with linkage- complete : 0.36046180810215317\n",
            "For n_clusters = 7 The average silhouette_score with linkage- average : 0.2513082102310622\n",
            "For n_clusters = 7 The average silhouette_score with linkage- single : 0.12556369270216122\n",
            "\n",
            "For n_clusters = 8 The average silhouette_score with linkage- ward : 0.3552135619542657\n",
            "For n_clusters = 8 The average silhouette_score with linkage- complete : 0.36654365904308367\n",
            "For n_clusters = 8 The average silhouette_score with linkage- average : 0.4170401637909489\n",
            "For n_clusters = 8 The average silhouette_score with linkage- single : 0.12375399619447794\n",
            "\n"
          ]
        }
      ]
    },
    {
      "cell_type": "markdown",
      "source": [
        "Conclusion: dataset with MinMax transformation & PCA applied on it doesn't imporoved score here. So i am taking previous cell code conclusion"
      ],
      "metadata": {
        "id": "qVfjEEmDiIfk"
      }
    },
    {
      "cell_type": "markdown",
      "source": [
        "#6.2 Run Hierarchical Clustering.(Agglomerative Clustering)"
      ],
      "metadata": {
        "id": "Ki-Zmp_piMz8"
      }
    },
    {
      "cell_type": "code",
      "source": [
        "agg_clustering = AgglomerativeClustering(n_clusters=5, linkage='average')\n",
        "y_pred_hie = agg_clustering.fit_predict(pca_std_df)\n",
        "print(y_pred_hie.shape)\n",
        "y_pred_hie"
      ],
      "metadata": {
        "colab": {
          "base_uri": "https://localhost:8080/"
        },
        "id": "CBKMW5_RiOFq",
        "outputId": "6a7c03bb-e56a-469c-ecce-7cda26eb61ce"
      },
      "execution_count": 55,
      "outputs": [
        {
          "output_type": "stream",
          "name": "stdout",
          "text": [
            "(3999,)\n"
          ]
        },
        {
          "output_type": "execute_result",
          "data": {
            "text/plain": [
              "array([0, 0, 0, ..., 0, 0, 0])"
            ]
          },
          "metadata": {},
          "execution_count": 55
        }
      ]
    },
    {
      "cell_type": "code",
      "source": [
        "agg_clustering.n_clusters_"
      ],
      "metadata": {
        "colab": {
          "base_uri": "https://localhost:8080/"
        },
        "id": "FDm7FoxwiULP",
        "outputId": "ce7c6ce2-ce1d-4bb8-e144-26d62a19eff2"
      },
      "execution_count": 56,
      "outputs": [
        {
          "output_type": "execute_result",
          "data": {
            "text/plain": [
              "5"
            ]
          },
          "metadata": {},
          "execution_count": 56
        }
      ]
    },
    {
      "cell_type": "code",
      "source": [
        "agg_clustering.labels_"
      ],
      "metadata": {
        "colab": {
          "base_uri": "https://localhost:8080/"
        },
        "id": "ugFgXFPbiXLD",
        "outputId": "ccae5ce7-6651-49b9-d6bb-f34e8036a420"
      },
      "execution_count": 57,
      "outputs": [
        {
          "output_type": "execute_result",
          "data": {
            "text/plain": [
              "array([0, 0, 0, ..., 0, 0, 0])"
            ]
          },
          "metadata": {},
          "execution_count": 57
        }
      ]
    },
    {
      "cell_type": "code",
      "source": [
        "agg_clustering.n_leaves_"
      ],
      "metadata": {
        "colab": {
          "base_uri": "https://localhost:8080/"
        },
        "id": "u2uHHTyqiZzW",
        "outputId": "9c50943a-37bb-4c05-d082-ff54913bd3e1"
      },
      "execution_count": 58,
      "outputs": [
        {
          "output_type": "execute_result",
          "data": {
            "text/plain": [
              "3999"
            ]
          },
          "metadata": {},
          "execution_count": 58
        }
      ]
    },
    {
      "cell_type": "code",
      "source": [
        "# The estimated number of connected components in the graph.\n",
        "\n",
        "agg_clustering.n_connected_components_"
      ],
      "metadata": {
        "colab": {
          "base_uri": "https://localhost:8080/"
        },
        "id": "jeBdcFpgic3l",
        "outputId": "545350e5-1e54-4e4c-d9e0-b86bbd8e8a44"
      },
      "execution_count": 59,
      "outputs": [
        {
          "output_type": "execute_result",
          "data": {
            "text/plain": [
              "1"
            ]
          },
          "metadata": {},
          "execution_count": 59
        }
      ]
    },
    {
      "cell_type": "code",
      "source": [
        "# The children of each non-leaf node. Values less than n_samples correspond to leaves of \n",
        "#......the tree which are the original samples. A node i greater than or equal to n_samples \n",
        "#.........is a non-leaf node and has children children_[i - n_samples]. Alternatively at the \n",
        "#...........i-th iteration, children[i][0] and children[i][1] are merged to form node n_samples + i\n",
        "\n",
        "agg_clustering.children_"
      ],
      "metadata": {
        "colab": {
          "base_uri": "https://localhost:8080/"
        },
        "id": "UoMIeP19ifql",
        "outputId": "e9457874-f22f-49e2-9d47-834d4fb92039"
      },
      "execution_count": 60,
      "outputs": [
        {
          "output_type": "execute_result",
          "data": {
            "text/plain": [
              "array([[3370, 3876],\n",
              "       [1826, 2121],\n",
              "       [2678, 2679],\n",
              "       ...,\n",
              "       [7991, 7993],\n",
              "       [7986, 7994],\n",
              "       [7988, 7995]])"
            ]
          },
          "metadata": {},
          "execution_count": 60
        }
      ]
    },
    {
      "cell_type": "code",
      "source": [
        "# Clustering Score\n",
        "\n",
        "(silhouette_score(pca_std_df, agg_clustering.labels_)*100).round(3)"
      ],
      "metadata": {
        "colab": {
          "base_uri": "https://localhost:8080/"
        },
        "id": "C3Q6Thbrii4S",
        "outputId": "65830353-9b30-4408-d1ec-bdc767076370"
      },
      "execution_count": 61,
      "outputs": [
        {
          "output_type": "execute_result",
          "data": {
            "text/plain": [
              "66.804"
            ]
          },
          "metadata": {},
          "execution_count": 61
        }
      ]
    },
    {
      "cell_type": "code",
      "source": [
        "# Plotting Dendrogram.\n",
        "\n",
        "import scipy.cluster.hierarchy as shc\n",
        "for methods in ['average']: \n",
        "    plt.figure(figsize =(20, 6)) \n",
        "    \n",
        "    dict = {'fontsize':24,'fontweight' :16, 'color' : 'blue'}\n",
        "    \n",
        "    plt.title('Visualising the data, Method- {}'.format(methods),fontdict = dict) \n",
        "    Dendrogram2 = shc.dendrogram(shc.linkage(pca_std_df, method = methods,optimal_ordering=False))"
      ],
      "metadata": {
        "colab": {
          "base_uri": "https://localhost:8080/",
          "height": 327
        },
        "id": "rqZUST6UimTw",
        "outputId": "b343a87e-323d-452f-86dc-d6687eafd181"
      },
      "execution_count": 62,
      "outputs": [
        {
          "output_type": "display_data",
          "data": {
            "text/plain": [
              "<Figure size 1440x432 with 1 Axes>"
            ],
            "image/png": "[encoded data removed]"
          },
          "metadata": {}
        }
      ]
    },
    {
      "cell_type": "markdown",
      "source": [
        "6.4 Putting Cluster lables into original dataset And analysis of the same."
      ],
      "metadata": {
        "id": "vKDLUfGyjKSf"
      }
    },
    {
      "cell_type": "code",
      "source": [
        "# Creating dataframe of cluster lables..\n",
        "\n",
        "hie_cluster = pd.DataFrame(agg_clustering.labels_.copy(), columns=['Hie_Clustering'])"
      ],
      "metadata": {
        "id": "gFuUDrl9jLaa"
      },
      "execution_count": 63,
      "outputs": []
    },
    {
      "cell_type": "code",
      "source": [
        "# Concating model1_Cluster df with main dataset copy\n",
        "\n",
        "hie_df = pd.concat([dataset.copy(), hie_cluster], axis=1)\n",
        "hie_df .head()"
      ],
      "metadata": {
        "colab": {
          "base_uri": "https://localhost:8080/",
          "height": 270
        },
        "id": "qeqXLCB6jQSW",
        "outputId": "132c0092-5d0e-4fc3-cfd8-d0cc7b54bf73"
      },
      "execution_count": 64,
      "outputs": [
        {
          "output_type": "execute_result",
          "data": {
            "text/plain": [
              "   ID  Balance  Qual_miles  cc1_miles  cc2_miles  cc3_miles  Bonus_miles  \\\n",
              "0   1    28143           0          1          1          1          174   \n",
              "1   2    19244           0          1          1          1          215   \n",
              "2   3    41354           0          1          1          1         4123   \n",
              "3   4    14776           0          1          1          1          500   \n",
              "4   5    97752           0          4          1          1        43300   \n",
              "\n",
              "   Bonus_trans  Flight_miles_12mo  Flight_trans_12  Days_since_enroll  Award  \\\n",
              "0            1                  0                0               7000      0   \n",
              "1            2                  0                0               6968      0   \n",
              "2            4                  0                0               7034      0   \n",
              "3            1                  0                0               6952      0   \n",
              "4           26               2077                4               6935      1   \n",
              "\n",
              "   Hie_Clustering  \n",
              "0               0  \n",
              "1               0  \n",
              "2               0  \n",
              "3               0  \n",
              "4               0  "
            ],
            "text/html": [
              "\n",
              "  <div id=\"df-71957c73-898d-4d86-af5a-bcc2988fc40b\">\n",
              "    <div class=\"colab-df-container\">\n",
              "      <div>\n",
              "<style scoped>\n",
              "    .dataframe tbody tr th:only-of-type {\n",
              "        vertical-align: middle;\n",
              "    }\n",
              "\n",
              "    .dataframe tbody tr th {\n",
              "        vertical-align: top;\n",
              "    }\n",
              "\n",
              "    .dataframe thead th {\n",
              "        text-align: right;\n",
              "    }\n",
              "</style>\n",
              "<table border=\"1\" class=\"dataframe\">\n",
              "  <thead>\n",
              "    <tr style=\"text-align: right;\">\n",
              "      <th></th>\n",
              "      <th>ID</th>\n",
              "      <th>Balance</th>\n",
              "      <th>Qual_miles</th>\n",
              "      <th>cc1_miles</th>\n",
              "      <th>cc2_miles</th>\n",
              "      <th>cc3_miles</th>\n",
              "      <th>Bonus_miles</th>\n",
              "      <th>Bonus_trans</th>\n",
              "      <th>Flight_miles_12mo</th>\n",
              "      <th>Flight_trans_12</th>\n",
              "      <th>Days_since_enroll</th>\n",
              "      <th>Award</th>\n",
              "      <th>Hie_Clustering</th>\n",
              "    </tr>\n",
              "  </thead>\n",
              "  <tbody>\n",
              "    <tr>\n",
              "      <th>0</th>\n",
              "      <td>1</td>\n",
              "      <td>28143</td>\n",
              "      <td>0</td>\n",
              "      <td>1</td>\n",
              "      <td>1</td>\n",
              "      <td>1</td>\n",
              "      <td>174</td>\n",
              "      <td>1</td>\n",
              "      <td>0</td>\n",
              "      <td>0</td>\n",
              "      <td>7000</td>\n",
              "      <td>0</td>\n",
              "      <td>0</td>\n",
              "    </tr>\n",
              "    <tr>\n",
              "      <th>1</th>\n",
              "      <td>2</td>\n",
              "      <td>19244</td>\n",
              "      <td>0</td>\n",
              "      <td>1</td>\n",
              "      <td>1</td>\n",
              "      <td>1</td>\n",
              "      <td>215</td>\n",
              "      <td>2</td>\n",
              "      <td>0</td>\n",
              "      <td>0</td>\n",
              "      <td>6968</td>\n",
              "      <td>0</td>\n",
              "      <td>0</td>\n",
              "    </tr>\n",
              "    <tr>\n",
              "      <th>2</th>\n",
              "      <td>3</td>\n",
              "      <td>41354</td>\n",
              "      <td>0</td>\n",
              "      <td>1</td>\n",
              "      <td>1</td>\n",
              "      <td>1</td>\n",
              "      <td>4123</td>\n",
              "      <td>4</td>\n",
              "      <td>0</td>\n",
              "      <td>0</td>\n",
              "      <td>7034</td>\n",
              "      <td>0</td>\n",
              "      <td>0</td>\n",
              "    </tr>\n",
              "    <tr>\n",
              "      <th>3</th>\n",
              "      <td>4</td>\n",
              "      <td>14776</td>\n",
              "      <td>0</td>\n",
              "      <td>1</td>\n",
              "      <td>1</td>\n",
              "      <td>1</td>\n",
              "      <td>500</td>\n",
              "      <td>1</td>\n",
              "      <td>0</td>\n",
              "      <td>0</td>\n",
              "      <td>6952</td>\n",
              "      <td>0</td>\n",
              "      <td>0</td>\n",
              "    </tr>\n",
              "    <tr>\n",
              "      <th>4</th>\n",
              "      <td>5</td>\n",
              "      <td>97752</td>\n",
              "      <td>0</td>\n",
              "      <td>4</td>\n",
              "      <td>1</td>\n",
              "      <td>1</td>\n",
              "      <td>43300</td>\n",
              "      <td>26</td>\n",
              "      <td>2077</td>\n",
              "      <td>4</td>\n",
              "      <td>6935</td>\n",
              "      <td>1</td>\n",
              "      <td>0</td>\n",
              "    </tr>\n",
              "  </tbody>\n",
              "</table>\n",
              "</div>\n",
              "      <button class=\"colab-df-convert\" onclick=\"convertToInteractive('df-71957c73-898d-4d86-af5a-bcc2988fc40b')\"\n",
              "              title=\"Convert this dataframe to an interactive table.\"\n",
              "              style=\"display:none;\">\n",
              "        \n",
              "  <svg xmlns=\"http://www.w3.org/2000/svg\" height=\"24px\"viewBox=\"0 0 24 24\"\n",
              "       width=\"24px\">\n",
              "    <path d=\"M0 0h24v24H0V0z\" fill=\"none\"/>\n",
              "    <path d=\"M18.56 5.44l.94 2.06.94-2.06 2.06-.94-2.06-.94-.94-2.06-.94 2.06-2.06.94zm-11 1L8.5 8.5l.94-2.06 2.06-.94-2.06-.94L8.5 2.5l-.94 2.06-2.06.94zm10 10l.94 2.06.94-2.06 2.06-.94-2.06-.94-.94-2.06-.94 2.06-2.06.94z\"/><path d=\"M17.41 7.96l-1.37-1.37c-.4-.4-.92-.59-1.43-.59-.52 0-1.04.2-1.43.59L10.3 9.45l-7.72 7.72c-.78.78-.78 2.05 0 2.83L4 21.41c.39.39.9.59 1.41.59.51 0 1.02-.2 1.41-.59l7.78-7.78 2.81-2.81c.8-.78.8-2.07 0-2.86zM5.41 20L4 18.59l7.72-7.72 1.47 1.35L5.41 20z\"/>\n",
              "  </svg>\n",
              "      </button>\n",
              "      \n",
              "  <style>\n",
              "    .colab-df-container {\n",
              "      display:flex;\n",
              "      flex-wrap:wrap;\n",
              "      gap: 12px;\n",
              "    }\n",
              "\n",
              "    .colab-df-convert {\n",
              "      background-color: #E8F0FE;\n",
              "      border: none;\n",
              "      border-radius: 50%;\n",
              "      cursor: pointer;\n",
              "      display: none;\n",
              "      fill: #1967D2;\n",
              "      height: 32px;\n",
              "      padding: 0 0 0 0;\n",
              "      width: 32px;\n",
              "    }\n",
              "\n",
              "    .colab-df-convert:hover {\n",
              "      background-color: #E2EBFA;\n",
              "      box-shadow: 0px 1px 2px rgba(60, 64, 67, 0.3), 0px 1px 3px 1px rgba(60, 64, 67, 0.15);\n",
              "      fill: #174EA6;\n",
              "    }\n",
              "\n",
              "    [theme=dark] .colab-df-convert {\n",
              "      background-color: #3B4455;\n",
              "      fill: #D2E3FC;\n",
              "    }\n",
              "\n",
              "    [theme=dark] .colab-df-convert:hover {\n",
              "      background-color: #434B5C;\n",
              "      box-shadow: 0px 1px 3px 1px rgba(0, 0, 0, 0.15);\n",
              "      filter: drop-shadow(0px 1px 2px rgba(0, 0, 0, 0.3));\n",
              "      fill: #FFFFFF;\n",
              "    }\n",
              "  </style>\n",
              "\n",
              "      <script>\n",
              "        const buttonEl =\n",
              "          document.querySelector('#df-71957c73-898d-4d86-af5a-bcc2988fc40b button.colab-df-convert');\n",
              "        buttonEl.style.display =\n",
              "          google.colab.kernel.accessAllowed ? 'block' : 'none';\n",
              "\n",
              "        async function convertToInteractive(key) {\n",
              "          const element = document.querySelector('#df-71957c73-898d-4d86-af5a-bcc2988fc40b');\n",
              "          const dataTable =\n",
              "            await google.colab.kernel.invokeFunction('convertToInteractive',\n",
              "                                                     [key], {});\n",
              "          if (!dataTable) return;\n",
              "\n",
              "          const docLinkHtml = 'Like what you see? Visit the ' +\n",
              "            '<a target=\"_blank\" href=https://colab.research.google.com/notebooks/data_table.ipynb>data table notebook</a>'\n",
              "            + ' to learn more about interactive tables.';\n",
              "          element.innerHTML = '';\n",
              "          dataTable['output_type'] = 'display_data';\n",
              "          await google.colab.output.renderOutput(dataTable, element);\n",
              "          const docLink = document.createElement('div');\n",
              "          docLink.innerHTML = docLinkHtml;\n",
              "          element.appendChild(docLink);\n",
              "        }\n",
              "      </script>\n",
              "    </div>\n",
              "  </div>\n",
              "  "
            ]
          },
          "metadata": {},
          "execution_count": 64
        }
      ]
    },
    {
      "cell_type": "code",
      "source": [
        "# Plotting barplot using groupby method to get visualize how many row no. in each cluster\n",
        "\n",
        "fig, ax = plt.subplots(figsize=(10, 6))\n",
        "hie_df.groupby(['Hie_Clustering']).count()['ID'].plot(kind='bar')\n",
        "plt.ylabel('ID Counts')\n",
        "plt.title('Hierarchical Clustering (pca_std_df)',fontsize='large',fontweight='bold')\n",
        "ax.set_xlabel('Clusters', fontsize='large', fontweight='bold')\n",
        "ax.set_ylabel('ID counts', fontsize='large', fontweight='bold')\n",
        "plt.yticks(fontsize=15)\n",
        "plt.xticks(fontsize=15)\n",
        "plt.show()"
      ],
      "metadata": {
        "colab": {
          "base_uri": "https://localhost:8080/",
          "height": 408
        },
        "id": "wY_5fh0EjUKE",
        "outputId": "9dcf6311-a2df-4def-c936-52b266f792f1"
      },
      "execution_count": 65,
      "outputs": [
        {
          "output_type": "display_data",
          "data": {
            "text/plain": [
              "<Figure size 720x432 with 1 Axes>"
            ],
            "image/png": "[encoded data removed]"
          },
          "metadata": {}
        }
      ]
    },
    {
      "cell_type": "code",
      "source": [
        "Kmeans_df.groupby(['Kmeans_Clustering']).count()"
      ],
      "metadata": {
        "colab": {
          "base_uri": "https://localhost:8080/",
          "height": 333
        },
        "id": "IAcBErH0jZYq",
        "outputId": "97e1093f-ac72-4844-8b16-d1728deb0303"
      },
      "execution_count": 66,
      "outputs": [
        {
          "output_type": "execute_result",
          "data": {
            "text/plain": [
              "                     ID  Balance  Qual_miles  cc1_miles  cc2_miles  cc3_miles  \\\n",
              "Kmeans_Clustering                                                               \n",
              "0                    59       59          59         59         59         59   \n",
              "1                  2440     2440        2440       2440       2440       2440   \n",
              "2                    15       15          15         15         15         15   \n",
              "3                  1301     1301        1301       1301       1301       1301   \n",
              "4                   141      141         141        141        141        141   \n",
              "5                    43       43          43         43         43         43   \n",
              "\n",
              "                   Bonus_miles  Bonus_trans  Flight_miles_12mo  \\\n",
              "Kmeans_Clustering                                                \n",
              "0                           59           59                 59   \n",
              "1                         2440         2440               2440   \n",
              "2                           15           15                 15   \n",
              "3                         1301         1301               1301   \n",
              "4                          141          141                141   \n",
              "5                           43           43                 43   \n",
              "\n",
              "                   Flight_trans_12  Days_since_enroll  Award  \n",
              "Kmeans_Clustering                                             \n",
              "0                               59                 59     59  \n",
              "1                             2440               2440   2440  \n",
              "2                               15                 15     15  \n",
              "3                             1301               1301   1301  \n",
              "4                              141                141    141  \n",
              "5                               43                 43     43  "
            ],
            "text/html": [
              "\n",
              "  <div id=\"df-2a401b29-66ec-495d-af4c-e2ef963efaf6\">\n",
              "    <div class=\"colab-df-container\">\n",
              "      <div>\n",
              "<style scoped>\n",
              "    .dataframe tbody tr th:only-of-type {\n",
              "        vertical-align: middle;\n",
              "    }\n",
              "\n",
              "    .dataframe tbody tr th {\n",
              "        vertical-align: top;\n",
              "    }\n",
              "\n",
              "    .dataframe thead th {\n",
              "        text-align: right;\n",
              "    }\n",
              "</style>\n",
              "<table border=\"1\" class=\"dataframe\">\n",
              "  <thead>\n",
              "    <tr style=\"text-align: right;\">\n",
              "      <th></th>\n",
              "      <th>ID</th>\n",
              "      <th>Balance</th>\n",
              "      <th>Qual_miles</th>\n",
              "      <th>cc1_miles</th>\n",
              "      <th>cc2_miles</th>\n",
              "      <th>cc3_miles</th>\n",
              "      <th>Bonus_miles</th>\n",
              "      <th>Bonus_trans</th>\n",
              "      <th>Flight_miles_12mo</th>\n",
              "      <th>Flight_trans_12</th>\n",
              "      <th>Days_since_enroll</th>\n",
              "      <th>Award</th>\n",
              "    </tr>\n",
              "    <tr>\n",
              "      <th>Kmeans_Clustering</th>\n",
              "      <th></th>\n",
              "      <th></th>\n",
              "      <th></th>\n",
              "      <th></th>\n",
              "      <th></th>\n",
              "      <th></th>\n",
              "      <th></th>\n",
              "      <th></th>\n",
              "      <th></th>\n",
              "      <th></th>\n",
              "      <th></th>\n",
              "      <th></th>\n",
              "    </tr>\n",
              "  </thead>\n",
              "  <tbody>\n",
              "    <tr>\n",
              "      <th>0</th>\n",
              "      <td>59</td>\n",
              "      <td>59</td>\n",
              "      <td>59</td>\n",
              "      <td>59</td>\n",
              "      <td>59</td>\n",
              "      <td>59</td>\n",
              "      <td>59</td>\n",
              "      <td>59</td>\n",
              "      <td>59</td>\n",
              "      <td>59</td>\n",
              "      <td>59</td>\n",
              "      <td>59</td>\n",
              "    </tr>\n",
              "    <tr>\n",
              "      <th>1</th>\n",
              "      <td>2440</td>\n",
              "      <td>2440</td>\n",
              "      <td>2440</td>\n",
              "      <td>2440</td>\n",
              "      <td>2440</td>\n",
              "      <td>2440</td>\n",
              "      <td>2440</td>\n",
              "      <td>2440</td>\n",
              "      <td>2440</td>\n",
              "      <td>2440</td>\n",
              "      <td>2440</td>\n",
              "      <td>2440</td>\n",
              "    </tr>\n",
              "    <tr>\n",
              "      <th>2</th>\n",
              "      <td>15</td>\n",
              "      <td>15</td>\n",
              "      <td>15</td>\n",
              "      <td>15</td>\n",
              "      <td>15</td>\n",
              "      <td>15</td>\n",
              "      <td>15</td>\n",
              "      <td>15</td>\n",
              "      <td>15</td>\n",
              "      <td>15</td>\n",
              "      <td>15</td>\n",
              "      <td>15</td>\n",
              "    </tr>\n",
              "    <tr>\n",
              "      <th>3</th>\n",
              "      <td>1301</td>\n",
              "      <td>1301</td>\n",
              "      <td>1301</td>\n",
              "      <td>1301</td>\n",
              "      <td>1301</td>\n",
              "      <td>1301</td>\n",
              "      <td>1301</td>\n",
              "      <td>1301</td>\n",
              "      <td>1301</td>\n",
              "      <td>1301</td>\n",
              "      <td>1301</td>\n",
              "      <td>1301</td>\n",
              "    </tr>\n",
              "    <tr>\n",
              "      <th>4</th>\n",
              "      <td>141</td>\n",
              "      <td>141</td>\n",
              "      <td>141</td>\n",
              "      <td>141</td>\n",
              "      <td>141</td>\n",
              "      <td>141</td>\n",
              "      <td>141</td>\n",
              "      <td>141</td>\n",
              "      <td>141</td>\n",
              "      <td>141</td>\n",
              "      <td>141</td>\n",
              "      <td>141</td>\n",
              "    </tr>\n",
              "    <tr>\n",
              "      <th>5</th>\n",
              "      <td>43</td>\n",
              "      <td>43</td>\n",
              "      <td>43</td>\n",
              "      <td>43</td>\n",
              "      <td>43</td>\n",
              "      <td>43</td>\n",
              "      <td>43</td>\n",
              "      <td>43</td>\n",
              "      <td>43</td>\n",
              "      <td>43</td>\n",
              "      <td>43</td>\n",
              "      <td>43</td>\n",
              "    </tr>\n",
              "  </tbody>\n",
              "</table>\n",
              "</div>\n",
              "      <button class=\"colab-df-convert\" onclick=\"convertToInteractive('df-2a401b29-66ec-495d-af4c-e2ef963efaf6')\"\n",
              "              title=\"Convert this dataframe to an interactive table.\"\n",
              "              style=\"display:none;\">\n",
              "        \n",
              "  <svg xmlns=\"http://www.w3.org/2000/svg\" height=\"24px\"viewBox=\"0 0 24 24\"\n",
              "       width=\"24px\">\n",
              "    <path d=\"M0 0h24v24H0V0z\" fill=\"none\"/>\n",
              "    <path d=\"M18.56 5.44l.94 2.06.94-2.06 2.06-.94-2.06-.94-.94-2.06-.94 2.06-2.06.94zm-11 1L8.5 8.5l.94-2.06 2.06-.94-2.06-.94L8.5 2.5l-.94 2.06-2.06.94zm10 10l.94 2.06.94-2.06 2.06-.94-2.06-.94-.94-2.06-.94 2.06-2.06.94z\"/><path d=\"M17.41 7.96l-1.37-1.37c-.4-.4-.92-.59-1.43-.59-.52 0-1.04.2-1.43.59L10.3 9.45l-7.72 7.72c-.78.78-.78 2.05 0 2.83L4 21.41c.39.39.9.59 1.41.59.51 0 1.02-.2 1.41-.59l7.78-7.78 2.81-2.81c.8-.78.8-2.07 0-2.86zM5.41 20L4 18.59l7.72-7.72 1.47 1.35L5.41 20z\"/>\n",
              "  </svg>\n",
              "      </button>\n",
              "      \n",
              "  <style>\n",
              "    .colab-df-container {\n",
              "      display:flex;\n",
              "      flex-wrap:wrap;\n",
              "      gap: 12px;\n",
              "    }\n",
              "\n",
              "    .colab-df-convert {\n",
              "      background-color: #E8F0FE;\n",
              "      border: none;\n",
              "      border-radius: 50%;\n",
              "      cursor: pointer;\n",
              "      display: none;\n",
              "      fill: #1967D2;\n",
              "      height: 32px;\n",
              "      padding: 0 0 0 0;\n",
              "      width: 32px;\n",
              "    }\n",
              "\n",
              "    .colab-df-convert:hover {\n",
              "      background-color: #E2EBFA;\n",
              "      box-shadow: 0px 1px 2px rgba(60, 64, 67, 0.3), 0px 1px 3px 1px rgba(60, 64, 67, 0.15);\n",
              "      fill: #174EA6;\n",
              "    }\n",
              "\n",
              "    [theme=dark] .colab-df-convert {\n",
              "      background-color: #3B4455;\n",
              "      fill: #D2E3FC;\n",
              "    }\n",
              "\n",
              "    [theme=dark] .colab-df-convert:hover {\n",
              "      background-color: #434B5C;\n",
              "      box-shadow: 0px 1px 3px 1px rgba(0, 0, 0, 0.15);\n",
              "      filter: drop-shadow(0px 1px 2px rgba(0, 0, 0, 0.3));\n",
              "      fill: #FFFFFF;\n",
              "    }\n",
              "  </style>\n",
              "\n",
              "      <script>\n",
              "        const buttonEl =\n",
              "          document.querySelector('#df-2a401b29-66ec-495d-af4c-e2ef963efaf6 button.colab-df-convert');\n",
              "        buttonEl.style.display =\n",
              "          google.colab.kernel.accessAllowed ? 'block' : 'none';\n",
              "\n",
              "        async function convertToInteractive(key) {\n",
              "          const element = document.querySelector('#df-2a401b29-66ec-495d-af4c-e2ef963efaf6');\n",
              "          const dataTable =\n",
              "            await google.colab.kernel.invokeFunction('convertToInteractive',\n",
              "                                                     [key], {});\n",
              "          if (!dataTable) return;\n",
              "\n",
              "          const docLinkHtml = 'Like what you see? Visit the ' +\n",
              "            '<a target=\"_blank\" href=https://colab.research.google.com/notebooks/data_table.ipynb>data table notebook</a>'\n",
              "            + ' to learn more about interactive tables.';\n",
              "          element.innerHTML = '';\n",
              "          dataTable['output_type'] = 'display_data';\n",
              "          await google.colab.output.renderOutput(dataTable, element);\n",
              "          const docLink = document.createElement('div');\n",
              "          docLink.innerHTML = docLinkHtml;\n",
              "          element.appendChild(docLink);\n",
              "        }\n",
              "      </script>\n",
              "    </div>\n",
              "  </div>\n",
              "  "
            ]
          },
          "metadata": {},
          "execution_count": 66
        }
      ]
    },
    {
      "cell_type": "code",
      "source": [
        "hie_df.groupby(['Hie_Clustering']).count()"
      ],
      "metadata": {
        "colab": {
          "base_uri": "https://localhost:8080/",
          "height": 302
        },
        "id": "ZDT7JqhvjdUm",
        "outputId": "39d82b0c-a258-4ca4-9511-d42870601f43"
      },
      "execution_count": 67,
      "outputs": [
        {
          "output_type": "execute_result",
          "data": {
            "text/plain": [
              "                  ID  Balance  Qual_miles  cc1_miles  cc2_miles  cc3_miles  \\\n",
              "Hie_Clustering                                                               \n",
              "0               3965     3965        3965       3965       3965       3965   \n",
              "1                 10       10          10         10         10         10   \n",
              "2                 15       15          15         15         15         15   \n",
              "3                  4        4           4          4          4          4   \n",
              "4                  5        5           5          5          5          5   \n",
              "\n",
              "                Bonus_miles  Bonus_trans  Flight_miles_12mo  Flight_trans_12  \\\n",
              "Hie_Clustering                                                                 \n",
              "0                      3965         3965               3965             3965   \n",
              "1                        10           10                 10               10   \n",
              "2                        15           15                 15               15   \n",
              "3                         4            4                  4                4   \n",
              "4                         5            5                  5                5   \n",
              "\n",
              "                Days_since_enroll  Award  \n",
              "Hie_Clustering                            \n",
              "0                            3965   3965  \n",
              "1                              10     10  \n",
              "2                              15     15  \n",
              "3                               4      4  \n",
              "4                               5      5  "
            ],
            "text/html": [
              "\n",
              "  <div id=\"df-9eee7ffe-827f-48e4-93f2-1a6dd509ac79\">\n",
              "    <div class=\"colab-df-container\">\n",
              "      <div>\n",
              "<style scoped>\n",
              "    .dataframe tbody tr th:only-of-type {\n",
              "        vertical-align: middle;\n",
              "    }\n",
              "\n",
              "    .dataframe tbody tr th {\n",
              "        vertical-align: top;\n",
              "    }\n",
              "\n",
              "    .dataframe thead th {\n",
              "        text-align: right;\n",
              "    }\n",
              "</style>\n",
              "<table border=\"1\" class=\"dataframe\">\n",
              "  <thead>\n",
              "    <tr style=\"text-align: right;\">\n",
              "      <th></th>\n",
              "      <th>ID</th>\n",
              "      <th>Balance</th>\n",
              "      <th>Qual_miles</th>\n",
              "      <th>cc1_miles</th>\n",
              "      <th>cc2_miles</th>\n",
              "      <th>cc3_miles</th>\n",
              "      <th>Bonus_miles</th>\n",
              "      <th>Bonus_trans</th>\n",
              "      <th>Flight_miles_12mo</th>\n",
              "      <th>Flight_trans_12</th>\n",
              "      <th>Days_since_enroll</th>\n",
              "      <th>Award</th>\n",
              "    </tr>\n",
              "    <tr>\n",
              "      <th>Hie_Clustering</th>\n",
              "      <th></th>\n",
              "      <th></th>\n",
              "      <th></th>\n",
              "      <th></th>\n",
              "      <th></th>\n",
              "      <th></th>\n",
              "      <th></th>\n",
              "      <th></th>\n",
              "      <th></th>\n",
              "      <th></th>\n",
              "      <th></th>\n",
              "      <th></th>\n",
              "    </tr>\n",
              "  </thead>\n",
              "  <tbody>\n",
              "    <tr>\n",
              "      <th>0</th>\n",
              "      <td>3965</td>\n",
              "      <td>3965</td>\n",
              "      <td>3965</td>\n",
              "      <td>3965</td>\n",
              "      <td>3965</td>\n",
              "      <td>3965</td>\n",
              "      <td>3965</td>\n",
              "      <td>3965</td>\n",
              "      <td>3965</td>\n",
              "      <td>3965</td>\n",
              "      <td>3965</td>\n",
              "      <td>3965</td>\n",
              "    </tr>\n",
              "    <tr>\n",
              "      <th>1</th>\n",
              "      <td>10</td>\n",
              "      <td>10</td>\n",
              "      <td>10</td>\n",
              "      <td>10</td>\n",
              "      <td>10</td>\n",
              "      <td>10</td>\n",
              "      <td>10</td>\n",
              "      <td>10</td>\n",
              "      <td>10</td>\n",
              "      <td>10</td>\n",
              "      <td>10</td>\n",
              "      <td>10</td>\n",
              "    </tr>\n",
              "    <tr>\n",
              "      <th>2</th>\n",
              "      <td>15</td>\n",
              "      <td>15</td>\n",
              "      <td>15</td>\n",
              "      <td>15</td>\n",
              "      <td>15</td>\n",
              "      <td>15</td>\n",
              "      <td>15</td>\n",
              "      <td>15</td>\n",
              "      <td>15</td>\n",
              "      <td>15</td>\n",
              "      <td>15</td>\n",
              "      <td>15</td>\n",
              "    </tr>\n",
              "    <tr>\n",
              "      <th>3</th>\n",
              "      <td>4</td>\n",
              "      <td>4</td>\n",
              "      <td>4</td>\n",
              "      <td>4</td>\n",
              "      <td>4</td>\n",
              "      <td>4</td>\n",
              "      <td>4</td>\n",
              "      <td>4</td>\n",
              "      <td>4</td>\n",
              "      <td>4</td>\n",
              "      <td>4</td>\n",
              "      <td>4</td>\n",
              "    </tr>\n",
              "    <tr>\n",
              "      <th>4</th>\n",
              "      <td>5</td>\n",
              "      <td>5</td>\n",
              "      <td>5</td>\n",
              "      <td>5</td>\n",
              "      <td>5</td>\n",
              "      <td>5</td>\n",
              "      <td>5</td>\n",
              "      <td>5</td>\n",
              "      <td>5</td>\n",
              "      <td>5</td>\n",
              "      <td>5</td>\n",
              "      <td>5</td>\n",
              "    </tr>\n",
              "  </tbody>\n",
              "</table>\n",
              "</div>\n",
              "      <button class=\"colab-df-convert\" onclick=\"convertToInteractive('df-9eee7ffe-827f-48e4-93f2-1a6dd509ac79')\"\n",
              "              title=\"Convert this dataframe to an interactive table.\"\n",
              "              style=\"display:none;\">\n",
              "        \n",
              "  <svg xmlns=\"http://www.w3.org/2000/svg\" height=\"24px\"viewBox=\"0 0 24 24\"\n",
              "       width=\"24px\">\n",
              "    <path d=\"M0 0h24v24H0V0z\" fill=\"none\"/>\n",
              "    <path d=\"M18.56 5.44l.94 2.06.94-2.06 2.06-.94-2.06-.94-.94-2.06-.94 2.06-2.06.94zm-11 1L8.5 8.5l.94-2.06 2.06-.94-2.06-.94L8.5 2.5l-.94 2.06-2.06.94zm10 10l.94 2.06.94-2.06 2.06-.94-2.06-.94-.94-2.06-.94 2.06-2.06.94z\"/><path d=\"M17.41 7.96l-1.37-1.37c-.4-.4-.92-.59-1.43-.59-.52 0-1.04.2-1.43.59L10.3 9.45l-7.72 7.72c-.78.78-.78 2.05 0 2.83L4 21.41c.39.39.9.59 1.41.59.51 0 1.02-.2 1.41-.59l7.78-7.78 2.81-2.81c.8-.78.8-2.07 0-2.86zM5.41 20L4 18.59l7.72-7.72 1.47 1.35L5.41 20z\"/>\n",
              "  </svg>\n",
              "      </button>\n",
              "      \n",
              "  <style>\n",
              "    .colab-df-container {\n",
              "      display:flex;\n",
              "      flex-wrap:wrap;\n",
              "      gap: 12px;\n",
              "    }\n",
              "\n",
              "    .colab-df-convert {\n",
              "      background-color: #E8F0FE;\n",
              "      border: none;\n",
              "      border-radius: 50%;\n",
              "      cursor: pointer;\n",
              "      display: none;\n",
              "      fill: #1967D2;\n",
              "      height: 32px;\n",
              "      padding: 0 0 0 0;\n",
              "      width: 32px;\n",
              "    }\n",
              "\n",
              "    .colab-df-convert:hover {\n",
              "      background-color: #E2EBFA;\n",
              "      box-shadow: 0px 1px 2px rgba(60, 64, 67, 0.3), 0px 1px 3px 1px rgba(60, 64, 67, 0.15);\n",
              "      fill: #174EA6;\n",
              "    }\n",
              "\n",
              "    [theme=dark] .colab-df-convert {\n",
              "      background-color: #3B4455;\n",
              "      fill: #D2E3FC;\n",
              "    }\n",
              "\n",
              "    [theme=dark] .colab-df-convert:hover {\n",
              "      background-color: #434B5C;\n",
              "      box-shadow: 0px 1px 3px 1px rgba(0, 0, 0, 0.15);\n",
              "      filter: drop-shadow(0px 1px 2px rgba(0, 0, 0, 0.3));\n",
              "      fill: #FFFFFF;\n",
              "    }\n",
              "  </style>\n",
              "\n",
              "      <script>\n",
              "        const buttonEl =\n",
              "          document.querySelector('#df-9eee7ffe-827f-48e4-93f2-1a6dd509ac79 button.colab-df-convert');\n",
              "        buttonEl.style.display =\n",
              "          google.colab.kernel.accessAllowed ? 'block' : 'none';\n",
              "\n",
              "        async function convertToInteractive(key) {\n",
              "          const element = document.querySelector('#df-9eee7ffe-827f-48e4-93f2-1a6dd509ac79');\n",
              "          const dataTable =\n",
              "            await google.colab.kernel.invokeFunction('convertToInteractive',\n",
              "                                                     [key], {});\n",
              "          if (!dataTable) return;\n",
              "\n",
              "          const docLinkHtml = 'Like what you see? Visit the ' +\n",
              "            '<a target=\"_blank\" href=https://colab.research.google.com/notebooks/data_table.ipynb>data table notebook</a>'\n",
              "            + ' to learn more about interactive tables.';\n",
              "          element.innerHTML = '';\n",
              "          dataTable['output_type'] = 'display_data';\n",
              "          await google.colab.output.renderOutput(dataTable, element);\n",
              "          const docLink = document.createElement('div');\n",
              "          docLink.innerHTML = docLinkHtml;\n",
              "          element.appendChild(docLink);\n",
              "        }\n",
              "      </script>\n",
              "    </div>\n",
              "  </div>\n",
              "  "
            ]
          },
          "metadata": {},
          "execution_count": 67
        }
      ]
    },
    {
      "cell_type": "markdown",
      "source": [
        "Conclusion: We will go with Kmeans Clustering Since in hierarchiacl clustering all data is gathherd in one cluster only."
      ],
      "metadata": {
        "id": "Q2rolleSjh-O"
      }
    },
    {
      "cell_type": "markdown",
      "source": [
        "Cluster Anlysis for Future Decision (Kmeans clustering)"
      ],
      "metadata": {
        "id": "4FdD5atQjnAM"
      }
    },
    {
      "cell_type": "code",
      "source": [
        "# Groupby Cluster lables\n",
        "\n",
        "count_df = Kmeans_df.groupby(['Kmeans_Clustering']).count()\n",
        "count_df"
      ],
      "metadata": {
        "colab": {
          "base_uri": "https://localhost:8080/",
          "height": 333
        },
        "id": "tZlOfVWMjoEN",
        "outputId": "21eebf5c-5e66-4ff5-8b2d-1cb21a3e78db"
      },
      "execution_count": 68,
      "outputs": [
        {
          "output_type": "execute_result",
          "data": {
            "text/plain": [
              "                     ID  Balance  Qual_miles  cc1_miles  cc2_miles  cc3_miles  \\\n",
              "Kmeans_Clustering                                                               \n",
              "0                    59       59          59         59         59         59   \n",
              "1                  2440     2440        2440       2440       2440       2440   \n",
              "2                    15       15          15         15         15         15   \n",
              "3                  1301     1301        1301       1301       1301       1301   \n",
              "4                   141      141         141        141        141        141   \n",
              "5                    43       43          43         43         43         43   \n",
              "\n",
              "                   Bonus_miles  Bonus_trans  Flight_miles_12mo  \\\n",
              "Kmeans_Clustering                                                \n",
              "0                           59           59                 59   \n",
              "1                         2440         2440               2440   \n",
              "2                           15           15                 15   \n",
              "3                         1301         1301               1301   \n",
              "4                          141          141                141   \n",
              "5                           43           43                 43   \n",
              "\n",
              "                   Flight_trans_12  Days_since_enroll  Award  \n",
              "Kmeans_Clustering                                             \n",
              "0                               59                 59     59  \n",
              "1                             2440               2440   2440  \n",
              "2                               15                 15     15  \n",
              "3                             1301               1301   1301  \n",
              "4                              141                141    141  \n",
              "5                               43                 43     43  "
            ],
            "text/html": [
              "\n",
              "  <div id=\"df-72dc76e7-bed8-4f92-881a-20a21b8e2c64\">\n",
              "    <div class=\"colab-df-container\">\n",
              "      <div>\n",
              "<style scoped>\n",
              "    .dataframe tbody tr th:only-of-type {\n",
              "        vertical-align: middle;\n",
              "    }\n",
              "\n",
              "    .dataframe tbody tr th {\n",
              "        vertical-align: top;\n",
              "    }\n",
              "\n",
              "    .dataframe thead th {\n",
              "        text-align: right;\n",
              "    }\n",
              "</style>\n",
              "<table border=\"1\" class=\"dataframe\">\n",
              "  <thead>\n",
              "    <tr style=\"text-align: right;\">\n",
              "      <th></th>\n",
              "      <th>ID</th>\n",
              "      <th>Balance</th>\n",
              "      <th>Qual_miles</th>\n",
              "      <th>cc1_miles</th>\n",
              "      <th>cc2_miles</th>\n",
              "      <th>cc3_miles</th>\n",
              "      <th>Bonus_miles</th>\n",
              "      <th>Bonus_trans</th>\n",
              "      <th>Flight_miles_12mo</th>\n",
              "      <th>Flight_trans_12</th>\n",
              "      <th>Days_since_enroll</th>\n",
              "      <th>Award</th>\n",
              "    </tr>\n",
              "    <tr>\n",
              "      <th>Kmeans_Clustering</th>\n",
              "      <th></th>\n",
              "      <th></th>\n",
              "      <th></th>\n",
              "      <th></th>\n",
              "      <th></th>\n",
              "      <th></th>\n",
              "      <th></th>\n",
              "      <th></th>\n",
              "      <th></th>\n",
              "      <th></th>\n",
              "      <th></th>\n",
              "      <th></th>\n",
              "    </tr>\n",
              "  </thead>\n",
              "  <tbody>\n",
              "    <tr>\n",
              "      <th>0</th>\n",
              "      <td>59</td>\n",
              "      <td>59</td>\n",
              "      <td>59</td>\n",
              "      <td>59</td>\n",
              "      <td>59</td>\n",
              "      <td>59</td>\n",
              "      <td>59</td>\n",
              "      <td>59</td>\n",
              "      <td>59</td>\n",
              "      <td>59</td>\n",
              "      <td>59</td>\n",
              "      <td>59</td>\n",
              "    </tr>\n",
              "    <tr>\n",
              "      <th>1</th>\n",
              "      <td>2440</td>\n",
              "      <td>2440</td>\n",
              "      <td>2440</td>\n",
              "      <td>2440</td>\n",
              "      <td>2440</td>\n",
              "      <td>2440</td>\n",
              "      <td>2440</td>\n",
              "      <td>2440</td>\n",
              "      <td>2440</td>\n",
              "      <td>2440</td>\n",
              "      <td>2440</td>\n",
              "      <td>2440</td>\n",
              "    </tr>\n",
              "    <tr>\n",
              "      <th>2</th>\n",
              "      <td>15</td>\n",
              "      <td>15</td>\n",
              "      <td>15</td>\n",
              "      <td>15</td>\n",
              "      <td>15</td>\n",
              "      <td>15</td>\n",
              "      <td>15</td>\n",
              "      <td>15</td>\n",
              "      <td>15</td>\n",
              "      <td>15</td>\n",
              "      <td>15</td>\n",
              "      <td>15</td>\n",
              "    </tr>\n",
              "    <tr>\n",
              "      <th>3</th>\n",
              "      <td>1301</td>\n",
              "      <td>1301</td>\n",
              "      <td>1301</td>\n",
              "      <td>1301</td>\n",
              "      <td>1301</td>\n",
              "      <td>1301</td>\n",
              "      <td>1301</td>\n",
              "      <td>1301</td>\n",
              "      <td>1301</td>\n",
              "      <td>1301</td>\n",
              "      <td>1301</td>\n",
              "      <td>1301</td>\n",
              "    </tr>\n",
              "    <tr>\n",
              "      <th>4</th>\n",
              "      <td>141</td>\n",
              "      <td>141</td>\n",
              "      <td>141</td>\n",
              "      <td>141</td>\n",
              "      <td>141</td>\n",
              "      <td>141</td>\n",
              "      <td>141</td>\n",
              "      <td>141</td>\n",
              "      <td>141</td>\n",
              "      <td>141</td>\n",
              "      <td>141</td>\n",
              "      <td>141</td>\n",
              "    </tr>\n",
              "    <tr>\n",
              "      <th>5</th>\n",
              "      <td>43</td>\n",
              "      <td>43</td>\n",
              "      <td>43</td>\n",
              "      <td>43</td>\n",
              "      <td>43</td>\n",
              "      <td>43</td>\n",
              "      <td>43</td>\n",
              "      <td>43</td>\n",
              "      <td>43</td>\n",
              "      <td>43</td>\n",
              "      <td>43</td>\n",
              "      <td>43</td>\n",
              "    </tr>\n",
              "  </tbody>\n",
              "</table>\n",
              "</div>\n",
              "      <button class=\"colab-df-convert\" onclick=\"convertToInteractive('df-72dc76e7-bed8-4f92-881a-20a21b8e2c64')\"\n",
              "              title=\"Convert this dataframe to an interactive table.\"\n",
              "              style=\"display:none;\">\n",
              "        \n",
              "  <svg xmlns=\"http://www.w3.org/2000/svg\" height=\"24px\"viewBox=\"0 0 24 24\"\n",
              "       width=\"24px\">\n",
              "    <path d=\"M0 0h24v24H0V0z\" fill=\"none\"/>\n",
              "    <path d=\"M18.56 5.44l.94 2.06.94-2.06 2.06-.94-2.06-.94-.94-2.06-.94 2.06-2.06.94zm-11 1L8.5 8.5l.94-2.06 2.06-.94-2.06-.94L8.5 2.5l-.94 2.06-2.06.94zm10 10l.94 2.06.94-2.06 2.06-.94-2.06-.94-.94-2.06-.94 2.06-2.06.94z\"/><path d=\"M17.41 7.96l-1.37-1.37c-.4-.4-.92-.59-1.43-.59-.52 0-1.04.2-1.43.59L10.3 9.45l-7.72 7.72c-.78.78-.78 2.05 0 2.83L4 21.41c.39.39.9.59 1.41.59.51 0 1.02-.2 1.41-.59l7.78-7.78 2.81-2.81c.8-.78.8-2.07 0-2.86zM5.41 20L4 18.59l7.72-7.72 1.47 1.35L5.41 20z\"/>\n",
              "  </svg>\n",
              "      </button>\n",
              "      \n",
              "  <style>\n",
              "    .colab-df-container {\n",
              "      display:flex;\n",
              "      flex-wrap:wrap;\n",
              "      gap: 12px;\n",
              "    }\n",
              "\n",
              "    .colab-df-convert {\n",
              "      background-color: #E8F0FE;\n",
              "      border: none;\n",
              "      border-radius: 50%;\n",
              "      cursor: pointer;\n",
              "      display: none;\n",
              "      fill: #1967D2;\n",
              "      height: 32px;\n",
              "      padding: 0 0 0 0;\n",
              "      width: 32px;\n",
              "    }\n",
              "\n",
              "    .colab-df-convert:hover {\n",
              "      background-color: #E2EBFA;\n",
              "      box-shadow: 0px 1px 2px rgba(60, 64, 67, 0.3), 0px 1px 3px 1px rgba(60, 64, 67, 0.15);\n",
              "      fill: #174EA6;\n",
              "    }\n",
              "\n",
              "    [theme=dark] .colab-df-convert {\n",
              "      background-color: #3B4455;\n",
              "      fill: #D2E3FC;\n",
              "    }\n",
              "\n",
              "    [theme=dark] .colab-df-convert:hover {\n",
              "      background-color: #434B5C;\n",
              "      box-shadow: 0px 1px 3px 1px rgba(0, 0, 0, 0.15);\n",
              "      filter: drop-shadow(0px 1px 2px rgba(0, 0, 0, 0.3));\n",
              "      fill: #FFFFFF;\n",
              "    }\n",
              "  </style>\n",
              "\n",
              "      <script>\n",
              "        const buttonEl =\n",
              "          document.querySelector('#df-72dc76e7-bed8-4f92-881a-20a21b8e2c64 button.colab-df-convert');\n",
              "        buttonEl.style.display =\n",
              "          google.colab.kernel.accessAllowed ? 'block' : 'none';\n",
              "\n",
              "        async function convertToInteractive(key) {\n",
              "          const element = document.querySelector('#df-72dc76e7-bed8-4f92-881a-20a21b8e2c64');\n",
              "          const dataTable =\n",
              "            await google.colab.kernel.invokeFunction('convertToInteractive',\n",
              "                                                     [key], {});\n",
              "          if (!dataTable) return;\n",
              "\n",
              "          const docLinkHtml = 'Like what you see? Visit the ' +\n",
              "            '<a target=\"_blank\" href=https://colab.research.google.com/notebooks/data_table.ipynb>data table notebook</a>'\n",
              "            + ' to learn more about interactive tables.';\n",
              "          element.innerHTML = '';\n",
              "          dataTable['output_type'] = 'display_data';\n",
              "          await google.colab.output.renderOutput(dataTable, element);\n",
              "          const docLink = document.createElement('div');\n",
              "          docLink.innerHTML = docLinkHtml;\n",
              "          element.appendChild(docLink);\n",
              "        }\n",
              "      </script>\n",
              "    </div>\n",
              "  </div>\n",
              "  "
            ]
          },
          "metadata": {},
          "execution_count": 68
        }
      ]
    },
    {
      "cell_type": "code",
      "source": [
        "# Total numbers in each cluster..\n",
        "\n",
        "count = count_df.xs('ID' ,axis = 1)\n",
        "count.plot(kind='bar', title= 'Nuber Counts')\n",
        "plt.show()"
      ],
      "metadata": {
        "colab": {
          "base_uri": "https://localhost:8080/",
          "height": 372
        },
        "id": "OBvhxTjVjsvG",
        "outputId": "19c69057-fe49-4cc1-a5c4-ba76a8ac5b7a"
      },
      "execution_count": 69,
      "outputs": [
        {
          "output_type": "display_data",
          "data": {
            "text/plain": [
              "<Figure size 576x396 with 1 Axes>"
            ],
            "image/png": "[encoded data removed]"
          },
          "metadata": {}
        }
      ]
    },
    {
      "cell_type": "markdown",
      "source": [
        "Conclusion:\n",
        "\n",
        "In cluster number 0 & 1 there are more customers. Need to focus on cluster 0 & 1. (clusters avg. is taken & renamed from next code onwards)"
      ],
      "metadata": {
        "id": "bLLxSpn_jwHQ"
      }
    },
    {
      "cell_type": "code",
      "source": [
        ""
      ],
      "metadata": {
        "id": "2NeOC1tQjxGd"
      },
      "execution_count": null,
      "outputs": []
    },
    {
      "cell_type": "code",
      "source": [
        "# Sorting elements based on cluster label assigned and taking average for insights.\n",
        "\n",
        "cluster1 = pd.DataFrame(Kmeans_df.loc[Kmeans_df.Kmeans_Clustering==0].mean(),columns= ['Cluster1_avg'])\n",
        "cluster2 = pd.DataFrame(Kmeans_df.loc[Kmeans_df.Kmeans_Clustering==1].mean(),columns= ['Cluster2_avg'])\n",
        "cluster3 = pd.DataFrame(Kmeans_df.loc[Kmeans_df.Kmeans_Clustering==2].mean(),columns= ['Cluster3_avg'])\n",
        "cluster4 = pd.DataFrame(Kmeans_df.loc[Kmeans_df.Kmeans_Clustering==3].mean(),columns= ['Cluster4_avg'])\n",
        "cluster5 = pd.DataFrame(Kmeans_df.loc[Kmeans_df.Kmeans_Clustering==4].mean(),columns= ['Cluster5_avg'])"
      ],
      "metadata": {
        "id": "MpkrDHrLjxOx"
      },
      "execution_count": 70,
      "outputs": []
    },
    {
      "cell_type": "code",
      "source": [
        "avg_df = pd.concat([cluster1,cluster2,cluster3,cluster4,cluster5],axis=1)\n",
        "avg_df"
      ],
      "metadata": {
        "colab": {
          "base_uri": "https://localhost:8080/",
          "height": 457
        },
        "id": "Ly1K3mdgj3-X",
        "outputId": "987537da-5e40-488c-ef51-1ac59937e461"
      },
      "execution_count": 71,
      "outputs": [
        {
          "output_type": "execute_result",
          "data": {
            "text/plain": [
              "                    Cluster1_avg  Cluster2_avg   Cluster3_avg   Cluster4_avg  \\\n",
              "ID                   2110.423729   2234.516803    1664.866667    1623.552652   \n",
              "Balance            117326.186441  42329.807377  138061.400000  117304.675634   \n",
              "Qual_miles           5445.305085     49.405738      78.800000      50.634128   \n",
              "cc1_miles               2.033898      1.186475       3.466667       3.690238   \n",
              "cc2_miles               1.000000      1.000000       1.000000       1.000000   \n",
              "cc3_miles               1.000000      1.000410       4.066667       1.001537   \n",
              "Bonus_miles         19059.610169   4263.749180   93927.866667   38668.126826   \n",
              "Bonus_trans            12.305085      6.575000      28.066667      18.837048   \n",
              "Flight_miles_12mo     965.796610    208.886885     506.666667     327.721752   \n",
              "Flight_trans_12         2.881356      0.638525       1.600000       0.989239   \n",
              "Days_since_enroll    3874.830508   3704.174590    4613.866667    4844.644120   \n",
              "Award                   0.542373      0.240574       0.533333       0.559570   \n",
              "Kmeans_Clustering       0.000000      1.000000       2.000000       3.000000   \n",
              "\n",
              "                    Cluster5_avg  \n",
              "ID                   1742.758865  \n",
              "Balance            187792.460993  \n",
              "Qual_miles            471.163121  \n",
              "cc1_miles               2.262411  \n",
              "cc2_miles               1.000000  \n",
              "cc3_miles               1.000000  \n",
              "Bonus_miles         33236.602837  \n",
              "Bonus_trans            27.978723  \n",
              "Flight_miles_12mo    5773.602837  \n",
              "Flight_trans_12        16.730496  \n",
              "Days_since_enroll    4684.851064  \n",
              "Award                   0.773050  \n",
              "Kmeans_Clustering       4.000000  "
            ],
            "text/html": [
              "\n",
              "  <div id=\"df-c59dce8a-785a-43e9-8e67-a45bce8dcee2\">\n",
              "    <div class=\"colab-df-container\">\n",
              "      <div>\n",
              "<style scoped>\n",
              "    .dataframe tbody tr th:only-of-type {\n",
              "        vertical-align: middle;\n",
              "    }\n",
              "\n",
              "    .dataframe tbody tr th {\n",
              "        vertical-align: top;\n",
              "    }\n",
              "\n",
              "    .dataframe thead th {\n",
              "        text-align: right;\n",
              "    }\n",
              "</style>\n",
              "<table border=\"1\" class=\"dataframe\">\n",
              "  <thead>\n",
              "    <tr style=\"text-align: right;\">\n",
              "      <th></th>\n",
              "      <th>Cluster1_avg</th>\n",
              "      <th>Cluster2_avg</th>\n",
              "      <th>Cluster3_avg</th>\n",
              "      <th>Cluster4_avg</th>\n",
              "      <th>Cluster5_avg</th>\n",
              "    </tr>\n",
              "  </thead>\n",
              "  <tbody>\n",
              "    <tr>\n",
              "      <th>ID</th>\n",
              "      <td>2110.423729</td>\n",
              "      <td>2234.516803</td>\n",
              "      <td>1664.866667</td>\n",
              "      <td>1623.552652</td>\n",
              "      <td>1742.758865</td>\n",
              "    </tr>\n",
              "    <tr>\n",
              "      <th>Balance</th>\n",
              "      <td>117326.186441</td>\n",
              "      <td>42329.807377</td>\n",
              "      <td>138061.400000</td>\n",
              "      <td>117304.675634</td>\n",
              "      <td>187792.460993</td>\n",
              "    </tr>\n",
              "    <tr>\n",
              "      <th>Qual_miles</th>\n",
              "      <td>5445.305085</td>\n",
              "      <td>49.405738</td>\n",
              "      <td>78.800000</td>\n",
              "      <td>50.634128</td>\n",
              "      <td>471.163121</td>\n",
              "    </tr>\n",
              "    <tr>\n",
              "      <th>cc1_miles</th>\n",
              "      <td>2.033898</td>\n",
              "      <td>1.186475</td>\n",
              "      <td>3.466667</td>\n",
              "      <td>3.690238</td>\n",
              "      <td>2.262411</td>\n",
              "    </tr>\n",
              "    <tr>\n",
              "      <th>cc2_miles</th>\n",
              "      <td>1.000000</td>\n",
              "      <td>1.000000</td>\n",
              "      <td>1.000000</td>\n",
              "      <td>1.000000</td>\n",
              "      <td>1.000000</td>\n",
              "    </tr>\n",
              "    <tr>\n",
              "      <th>cc3_miles</th>\n",
              "      <td>1.000000</td>\n",
              "      <td>1.000410</td>\n",
              "      <td>4.066667</td>\n",
              "      <td>1.001537</td>\n",
              "      <td>1.000000</td>\n",
              "    </tr>\n",
              "    <tr>\n",
              "      <th>Bonus_miles</th>\n",
              "      <td>19059.610169</td>\n",
              "      <td>4263.749180</td>\n",
              "      <td>93927.866667</td>\n",
              "      <td>38668.126826</td>\n",
              "      <td>33236.602837</td>\n",
              "    </tr>\n",
              "    <tr>\n",
              "      <th>Bonus_trans</th>\n",
              "      <td>12.305085</td>\n",
              "      <td>6.575000</td>\n",
              "      <td>28.066667</td>\n",
              "      <td>18.837048</td>\n",
              "      <td>27.978723</td>\n",
              "    </tr>\n",
              "    <tr>\n",
              "      <th>Flight_miles_12mo</th>\n",
              "      <td>965.796610</td>\n",
              "      <td>208.886885</td>\n",
              "      <td>506.666667</td>\n",
              "      <td>327.721752</td>\n",
              "      <td>5773.602837</td>\n",
              "    </tr>\n",
              "    <tr>\n",
              "      <th>Flight_trans_12</th>\n",
              "      <td>2.881356</td>\n",
              "      <td>0.638525</td>\n",
              "      <td>1.600000</td>\n",
              "      <td>0.989239</td>\n",
              "      <td>16.730496</td>\n",
              "    </tr>\n",
              "    <tr>\n",
              "      <th>Days_since_enroll</th>\n",
              "      <td>3874.830508</td>\n",
              "      <td>3704.174590</td>\n",
              "      <td>4613.866667</td>\n",
              "      <td>4844.644120</td>\n",
              "      <td>4684.851064</td>\n",
              "    </tr>\n",
              "    <tr>\n",
              "      <th>Award</th>\n",
              "      <td>0.542373</td>\n",
              "      <td>0.240574</td>\n",
              "      <td>0.533333</td>\n",
              "      <td>0.559570</td>\n",
              "      <td>0.773050</td>\n",
              "    </tr>\n",
              "    <tr>\n",
              "      <th>Kmeans_Clustering</th>\n",
              "      <td>0.000000</td>\n",
              "      <td>1.000000</td>\n",
              "      <td>2.000000</td>\n",
              "      <td>3.000000</td>\n",
              "      <td>4.000000</td>\n",
              "    </tr>\n",
              "  </tbody>\n",
              "</table>\n",
              "</div>\n",
              "      <button class=\"colab-df-convert\" onclick=\"convertToInteractive('df-c59dce8a-785a-43e9-8e67-a45bce8dcee2')\"\n",
              "              title=\"Convert this dataframe to an interactive table.\"\n",
              "              style=\"display:none;\">\n",
              "        \n",
              "  <svg xmlns=\"http://www.w3.org/2000/svg\" height=\"24px\"viewBox=\"0 0 24 24\"\n",
              "       width=\"24px\">\n",
              "    <path d=\"M0 0h24v24H0V0z\" fill=\"none\"/>\n",
              "    <path d=\"M18.56 5.44l.94 2.06.94-2.06 2.06-.94-2.06-.94-.94-2.06-.94 2.06-2.06.94zm-11 1L8.5 8.5l.94-2.06 2.06-.94-2.06-.94L8.5 2.5l-.94 2.06-2.06.94zm10 10l.94 2.06.94-2.06 2.06-.94-2.06-.94-.94-2.06-.94 2.06-2.06.94z\"/><path d=\"M17.41 7.96l-1.37-1.37c-.4-.4-.92-.59-1.43-.59-.52 0-1.04.2-1.43.59L10.3 9.45l-7.72 7.72c-.78.78-.78 2.05 0 2.83L4 21.41c.39.39.9.59 1.41.59.51 0 1.02-.2 1.41-.59l7.78-7.78 2.81-2.81c.8-.78.8-2.07 0-2.86zM5.41 20L4 18.59l7.72-7.72 1.47 1.35L5.41 20z\"/>\n",
              "  </svg>\n",
              "      </button>\n",
              "      \n",
              "  <style>\n",
              "    .colab-df-container {\n",
              "      display:flex;\n",
              "      flex-wrap:wrap;\n",
              "      gap: 12px;\n",
              "    }\n",
              "\n",
              "    .colab-df-convert {\n",
              "      background-color: #E8F0FE;\n",
              "      border: none;\n",
              "      border-radius: 50%;\n",
              "      cursor: pointer;\n",
              "      display: none;\n",
              "      fill: #1967D2;\n",
              "      height: 32px;\n",
              "      padding: 0 0 0 0;\n",
              "      width: 32px;\n",
              "    }\n",
              "\n",
              "    .colab-df-convert:hover {\n",
              "      background-color: #E2EBFA;\n",
              "      box-shadow: 0px 1px 2px rgba(60, 64, 67, 0.3), 0px 1px 3px 1px rgba(60, 64, 67, 0.15);\n",
              "      fill: #174EA6;\n",
              "    }\n",
              "\n",
              "    [theme=dark] .colab-df-convert {\n",
              "      background-color: #3B4455;\n",
              "      fill: #D2E3FC;\n",
              "    }\n",
              "\n",
              "    [theme=dark] .colab-df-convert:hover {\n",
              "      background-color: #434B5C;\n",
              "      box-shadow: 0px 1px 3px 1px rgba(0, 0, 0, 0.15);\n",
              "      filter: drop-shadow(0px 1px 2px rgba(0, 0, 0, 0.3));\n",
              "      fill: #FFFFFF;\n",
              "    }\n",
              "  </style>\n",
              "\n",
              "      <script>\n",
              "        const buttonEl =\n",
              "          document.querySelector('#df-c59dce8a-785a-43e9-8e67-a45bce8dcee2 button.colab-df-convert');\n",
              "        buttonEl.style.display =\n",
              "          google.colab.kernel.accessAllowed ? 'block' : 'none';\n",
              "\n",
              "        async function convertToInteractive(key) {\n",
              "          const element = document.querySelector('#df-c59dce8a-785a-43e9-8e67-a45bce8dcee2');\n",
              "          const dataTable =\n",
              "            await google.colab.kernel.invokeFunction('convertToInteractive',\n",
              "                                                     [key], {});\n",
              "          if (!dataTable) return;\n",
              "\n",
              "          const docLinkHtml = 'Like what you see? Visit the ' +\n",
              "            '<a target=\"_blank\" href=https://colab.research.google.com/notebooks/data_table.ipynb>data table notebook</a>'\n",
              "            + ' to learn more about interactive tables.';\n",
              "          element.innerHTML = '';\n",
              "          dataTable['output_type'] = 'display_data';\n",
              "          await google.colab.output.renderOutput(dataTable, element);\n",
              "          const docLink = document.createElement('div');\n",
              "          docLink.innerHTML = docLinkHtml;\n",
              "          element.appendChild(docLink);\n",
              "        }\n",
              "      </script>\n",
              "    </div>\n",
              "  </div>\n",
              "  "
            ]
          },
          "metadata": {},
          "execution_count": 71
        }
      ]
    },
    {
      "cell_type": "markdown",
      "source": [
        "Conclusion :\n",
        "\n",
        "As decided need to focous on first two clusters..\n",
        "Considering past Award status(0 or 1) cluster number1 shows award avg as 0.56 that means people awarded with scheme.\n",
        "Similarly for cluster number 2 award avg. is minimum. Since avg is low that means now maximim award given to cluster number1 in the past. Need to add future schemes for cluster number two members on different bnus points & different card tranction bonus."
      ],
      "metadata": {
        "id": "twYJywQDj9Wr"
      }
    },
    {
      "cell_type": "code",
      "source": [
        "# Extract and plot one Column data .xs method\n",
        "for i , row in avg_df.iterrows():\n",
        "    fig = plt.subplots(figsize=(8,6))\n",
        "    j = avg_df.xs(i ,axis = 0)\n",
        "    plt.title(i, fontsize=16, fontweight=20)\n",
        "    j.plot(kind='bar',fontsize=14)\n",
        "    plt.show()\n",
        "    print()"
      ],
      "metadata": {
        "colab": {
          "base_uri": "https://localhost:8080/",
          "height": 1000
        },
        "id": "9hBIYtSlj-a9",
        "outputId": "f2b46e09-990e-485f-e6c4-46052f7bbd52"
      },
      "execution_count": 72,
      "outputs": [
        {
          "output_type": "display_data",
          "data": {
            "text/plain": [
              "<Figure size 576x432 with 1 Axes>"
            ],
            "image/png": "[encoded data removed]"
          },
          "metadata": {}
        },
        {
          "output_type": "stream",
          "name": "stdout",
          "text": [
            "\n"
          ]
        },
        {
          "output_type": "display_data",
          "data": {
            "text/plain": [
              "<Figure size 576x432 with 1 Axes>"
            ],
            "image/png": "[encoded data removed]"
          },
          "metadata": {}
        },
        {
          "output_type": "stream",
          "name": "stdout",
          "text": [
            "\n"
          ]
        },
        {
          "output_type": "display_data",
          "data": {
            "text/plain": [
              "<Figure size 576x432 with 1 Axes>"
            ],
            "image/png": "[encoded data removed]"
          },
          "metadata": {}
        },
        {
          "output_type": "stream",
          "name": "stdout",
          "text": [
            "\n"
          ]
        },
        {
          "output_type": "display_data",
          "data": {
            "text/plain": [
              "<Figure size 576x432 with 1 Axes>"
            ],
            "image/png": "[encoded data removed]"
          },
          "metadata": {}
        },
        {
          "output_type": "stream",
          "name": "stdout",
          "text": [
            "\n"
          ]
        },
        {
          "output_type": "display_data",
          "data": {
            "text/plain": [
              "<Figure size 576x432 with 1 Axes>"
            ],
            "image/png": "[encoded data removed]"
          },
          "metadata": {}
        },
        {
          "output_type": "stream",
          "name": "stdout",
          "text": [
            "\n"
          ]
        },
        {
          "output_type": "display_data",
          "data": {
            "text/plain": [
              "<Figure size 576x432 with 1 Axes>"
            ],
            "image/png": "[encoded data removed]"
          },
          "metadata": {}
        },
        {
          "output_type": "stream",
          "name": "stdout",
          "text": [
            "\n"
          ]
        },
        {
          "output_type": "display_data",
          "data": {
            "text/plain": [
              "<Figure size 576x432 with 1 Axes>"
            ],
            "image/png": "[encoded data removed]"
          },
          "metadata": {}
        },
        {
          "output_type": "stream",
          "name": "stdout",
          "text": [
            "\n"
          ]
        },
        {
          "output_type": "display_data",
          "data": {
            "text/plain": [
              "<Figure size 576x432 with 1 Axes>"
            ],
            "image/png": "[encoded data removed]"
          },
          "metadata": {}
        },
        {
          "output_type": "stream",
          "name": "stdout",
          "text": [
            "\n"
          ]
        },
        {
          "output_type": "display_data",
          "data": {
            "text/plain": [
              "<Figure size 576x432 with 1 Axes>"
            ],
            "image/png": "[encoded data removed]"
          },
          "metadata": {}
        },
        {
          "output_type": "stream",
          "name": "stdout",
          "text": [
            "\n"
          ]
        },
        {
          "output_type": "display_data",
          "data": {
            "text/plain": [
              "<Figure size 576x432 with 1 Axes>"
            ],
            "image/png": "[encoded data removed]"
          },
          "metadata": {}
        },
        {
          "output_type": "stream",
          "name": "stdout",
          "text": [
            "\n"
          ]
        },
        {
          "output_type": "display_data",
          "data": {
            "text/plain": [
              "<Figure size 576x432 with 1 Axes>"
            ],
            "image/png": "[encoded data removed]"
          },
          "metadata": {}
        },
        {
          "output_type": "stream",
          "name": "stdout",
          "text": [
            "\n"
          ]
        },
        {
          "output_type": "display_data",
          "data": {
            "text/plain": [
              "<Figure size 576x432 with 1 Axes>"
            ],
            "image/png": "[encoded data removed]"
          },
          "metadata": {}
        },
        {
          "output_type": "stream",
          "name": "stdout",
          "text": [
            "\n"
          ]
        },
        {
          "output_type": "display_data",
          "data": {
            "text/plain": [
              "<Figure size 576x432 with 1 Axes>"
            ],
            "image/png": "[encoded data removed]"
          },
          "metadata": {}
        },
        {
          "output_type": "stream",
          "name": "stdout",
          "text": [
            "\n"
          ]
        }
      ]
    },
    {
      "cell_type": "markdown",
      "source": [
        "Conclusion:\n",
        "I have applied EDA to analyze dataset.Discovered correlation between diff variables and found no colinearity.\n",
        "Applied Standardazation & MinMaxScalar transformation on the data to use Principle componets analysis effectively.\n",
        "I have used & analyzed two clustering techniques here..i) KMeans & ii) Hierarchical Clusterig.\n",
        "\n",
        "By applying clustering on diff. PCA obtained with diff transformation data shows fluctuation in model score. So finally the MinMaxScalr found less score so not used for further model building.\n",
        "\n",
        "KMeans clustering is sensitive to outliers.Since produced min. sil. score. whereas hierarchical gives max. in this case.\n",
        "Hierarchical clustering given total cluster number=5, but when i comapred both kmean & Hierarchical clustering, the hierarchical clustering contains approx 99% data in cluster 1 only. So this will not useful to analyze diff. customer. So i continued with KMeans."
      ],
      "metadata": {
        "id": "Xpm-FFAYkTJt"
      }
    },
    {
      "cell_type": "markdown",
      "source": [
        ""
      ],
      "metadata": {
        "id": "KZSPA5TbkUoc"
      }
    },
    {
      "cell_type": "code",
      "source": [
        ""
      ],
      "metadata": {
        "id": "Axioy3zUkVbN"
      },
      "execution_count": null,
      "outputs": []
    }
  ]
}